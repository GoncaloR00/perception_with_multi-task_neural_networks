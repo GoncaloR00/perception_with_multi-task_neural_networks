{
 "cells": [
  {
   "cell_type": "code",
   "execution_count": null,
   "id": "94f22600-8966-45f8-9add-57d8fc047a26",
   "metadata": {},
   "outputs": [],
   "source": [
    "[(1698038831.643542, 1698038831.649549), (1698038831.65492, 1698038831.685167), (1698038831.657739, 1698038831.672972)]\n",
    "0.041625022888183594\n",
    "0.018051862716674805\n",
    "0.029429912567138672"
   ]
  },
  {
   "cell_type": "code",
   "execution_count": 1,
   "id": "908968fb-fef6-47ba-91d8-df7628a36efd",
   "metadata": {},
   "outputs": [
    {
     "data": {
      "text/plain": [
       "0.041625022888183594"
      ]
     },
     "execution_count": 1,
     "metadata": {},
     "output_type": "execute_result"
    }
   ],
   "source": [
    "1698038831.685167 - 1698038831.643542"
   ]
  },
  {
   "cell_type": "code",
   "execution_count": 2,
   "id": "9c2c25ef-befa-4719-9534-cb9174c3ab73",
   "metadata": {},
   "outputs": [
    {
     "data": {
      "text/plain": [
       "0.018051862716674805"
      ]
     },
     "execution_count": 2,
     "metadata": {},
     "output_type": "execute_result"
    }
   ],
   "source": [
    "1698038831.672972 - 1698038831.65492"
   ]
  },
  {
   "cell_type": "code",
   "execution_count": 3,
   "id": "6f950a09-7d42-4b7e-a8cc-e8e6a4d91618",
   "metadata": {},
   "outputs": [
    {
     "data": {
      "text/plain": [
       "0.029429912567138672"
      ]
     },
     "execution_count": 3,
     "metadata": {},
     "output_type": "execute_result"
    }
   ],
   "source": [
    "1698038831.672972 - 1698038831.643542"
   ]
  },
  {
   "cell_type": "code",
   "execution_count": 4,
   "id": "fab262bf-85f0-44f7-b4f6-b98cd48edfc0",
   "metadata": {},
   "outputs": [
    {
     "data": {
      "text/plain": [
       "-0.011378049850463867"
      ]
     },
     "execution_count": 4,
     "metadata": {},
     "output_type": "execute_result"
    }
   ],
   "source": [
    "1698038831.643542 - 1698038831.65492"
   ]
  },
  {
   "cell_type": "code",
   "execution_count": 5,
   "id": "472b3fe6-e13f-4739-ba8b-68c054a3476a",
   "metadata": {},
   "outputs": [
    {
     "data": {
      "text/plain": [
       "-0.0028188228607177734"
      ]
     },
     "execution_count": 5,
     "metadata": {},
     "output_type": "execute_result"
    }
   ],
   "source": [
    "1698038831.65492 - 1698038831.657739"
   ]
  },
  {
   "cell_type": "code",
   "execution_count": 6,
   "id": "d297a4f3-3d56-4839-ac90-ec35e2ea738a",
   "metadata": {},
   "outputs": [
    {
     "data": {
      "text/plain": [
       "-0.03561806678771973"
      ]
     },
     "execution_count": 6,
     "metadata": {},
     "output_type": "execute_result"
    }
   ],
   "source": [
    "1698038831.649549 - 1698038831.685167"
   ]
  },
  {
   "cell_type": "code",
   "execution_count": 7,
   "id": "89417913-3865-4c1b-bc15-26fafc715684",
   "metadata": {},
   "outputs": [
    {
     "data": {
      "text/plain": [
       "0.012195110321044922"
      ]
     },
     "execution_count": 7,
     "metadata": {},
     "output_type": "execute_result"
    }
   ],
   "source": [
    "1698038831.685167 - 1698038831.672972"
   ]
  }
 ],
 "metadata": {
  "kernelspec": {
   "display_name": "Python 3 (ipykernel)",
   "language": "python",
   "name": "python3"
  },
  "language_info": {
   "codemirror_mode": {
    "name": "ipython",
    "version": 3
   },
   "file_extension": ".py",
   "mimetype": "text/x-python",
   "name": "python",
   "nbconvert_exporter": "python",
   "pygments_lexer": "ipython3",
   "version": "3.8.10"
  }
 },
 "nbformat": 4,
 "nbformat_minor": 5
}
