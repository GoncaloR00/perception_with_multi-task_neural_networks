{
 "cells": [
  {
   "cell_type": "code",
   "execution_count": 1,
   "id": "6d8b6de1-476f-4dcc-86ad-143c93c1b8d0",
   "metadata": {},
   "outputs": [],
   "source": [
    "import importlib"
   ]
  },
  {
   "cell_type": "code",
   "execution_count": 2,
   "id": "b46e04ea-6b66-42fe-8c75-eca1af425711",
   "metadata": {},
   "outputs": [],
   "source": [
    "teste = importlib.import_module('inference_modules.yolopv2_module')"
   ]
  }
 ],
 "metadata": {
  "kernelspec": {
   "display_name": "Python 3 (ipykernel)",
   "language": "python",
   "name": "python3"
  },
  "language_info": {
   "codemirror_mode": {
    "name": "ipython",
    "version": 3
   },
   "file_extension": ".py",
   "mimetype": "text/x-python",
   "name": "python",
   "nbconvert_exporter": "python",
   "pygments_lexer": "ipython3",
   "version": "3.8.10"
  }
 },
 "nbformat": 4,
 "nbformat_minor": 5
}
