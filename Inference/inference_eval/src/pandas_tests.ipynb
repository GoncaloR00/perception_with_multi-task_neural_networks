{
 "cells": [
  {
   "cell_type": "code",
   "execution_count": 1,
   "id": "13c05c8a-80ed-47f9-a5d1-8b639e67857a",
   "metadata": {},
   "outputs": [],
   "source": [
    "import pandas as pd\n",
    "import math"
   ]
  },
  {
   "cell_type": "code",
   "execution_count": 2,
   "id": "36d67303-5b40-4ae0-9413-7fadd65562d6",
   "metadata": {},
   "outputs": [],
   "source": [
    "# cidx = pd.MultiIndex.from_tuples([('Object detection','mAP@50','Precision'),('Object detection','IoU@50','Recall'),('Object detection','IoU@75','Precision'),('Object detection','IoU@75','Recall'),('Instance segmentation','IoU@50','Precision'),('Instance segmentation','IoU@50','Recall'),('Instance segmentation','IoU@75','Precision'),('Instance segmentation','IoU@75','Recall'),('ALPHA','','Recall'),('BETA','alpha'),('BETA','beta')])"
   ]
  },
  {
   "cell_type": "code",
   "execution_count": 42,
   "id": "18e111b7-1130-43e4-838b-0196fd768333",
   "metadata": {},
   "outputs": [],
   "source": [
    "columns_Resume = pd.MultiIndex.from_tuples([('Object detection','mAP@50'),('Object detection','mAP@75'),('Object detection','Ti'),('Object detection','Tf'),('Drivable area','mIoU'),('Drivable area','Ti'),('Drivable area','Tf'),('Lane marking','mF1Score'),('Lane marking','Ti'),('Lane marking','Tf')])"
   ]
  },
  {
   "cell_type": "code",
   "execution_count": 63,
   "id": "c44b6cbb-4dd4-4e49-91e7-58989940d5f6",
   "metadata": {},
   "outputs": [
    {
     "data": {
      "text/html": [
       "<div>\n",
       "<style scoped>\n",
       "    .dataframe tbody tr th:only-of-type {\n",
       "        vertical-align: middle;\n",
       "    }\n",
       "\n",
       "    .dataframe tbody tr th {\n",
       "        vertical-align: top;\n",
       "    }\n",
       "\n",
       "    .dataframe thead tr th {\n",
       "        text-align: left;\n",
       "    }\n",
       "</style>\n",
       "<table border=\"1\" class=\"dataframe\">\n",
       "  <thead>\n",
       "    <tr>\n",
       "      <th></th>\n",
       "      <th></th>\n",
       "      <th colspan=\"4\" halign=\"left\">Object detection</th>\n",
       "      <th colspan=\"3\" halign=\"left\">Drivable area</th>\n",
       "      <th colspan=\"3\" halign=\"left\">Lane marking</th>\n",
       "    </tr>\n",
       "    <tr>\n",
       "      <th></th>\n",
       "      <th></th>\n",
       "      <th>mAP@50</th>\n",
       "      <th>mAP@75</th>\n",
       "      <th>Ti</th>\n",
       "      <th>Tf</th>\n",
       "      <th>mIoU</th>\n",
       "      <th>Ti</th>\n",
       "      <th>Tf</th>\n",
       "      <th>mF1Score</th>\n",
       "      <th>Ti</th>\n",
       "      <th>Tf</th>\n",
       "    </tr>\n",
       "  </thead>\n",
       "  <tbody>\n",
       "  </tbody>\n",
       "</table>\n",
       "</div>"
      ],
      "text/plain": [
       "Empty DataFrame\n",
       "Columns: [(Object detection, mAP@50), (Object detection, mAP@75), (Object detection, Ti), (Object detection, Tf), (Drivable area, mIoU), (Drivable area, Ti), (Drivable area, Tf), (Lane marking, mF1Score), (Lane marking, Ti), (Lane marking, Tf)]\n",
       "Index: []"
      ]
     },
     "execution_count": 63,
     "metadata": {},
     "output_type": "execute_result"
    }
   ],
   "source": [
    "df = pd.DataFrame(columns=columns_Resume, index=a )\n",
    "# pd.set_option('colheader_justify', 'center')\n",
    "df = df.drop(['a'])\n",
    "df"
   ]
  },
  {
   "cell_type": "code",
   "execution_count": 61,
   "id": "b8422f1e-45fd-45ff-b9ba-7696166196a9",
   "metadata": {},
   "outputs": [
    {
     "data": {
      "text/html": [
       "<div>\n",
       "<style scoped>\n",
       "    .dataframe tbody tr th:only-of-type {\n",
       "        vertical-align: middle;\n",
       "    }\n",
       "\n",
       "    .dataframe tbody tr th {\n",
       "        vertical-align: top;\n",
       "    }\n",
       "\n",
       "    .dataframe thead tr th {\n",
       "        text-align: left;\n",
       "    }\n",
       "</style>\n",
       "<table border=\"1\" class=\"dataframe\">\n",
       "  <thead>\n",
       "    <tr>\n",
       "      <th></th>\n",
       "      <th></th>\n",
       "      <th colspan=\"4\" halign=\"left\">Object detection</th>\n",
       "      <th colspan=\"3\" halign=\"left\">Drivable area</th>\n",
       "      <th colspan=\"3\" halign=\"left\">Lane marking</th>\n",
       "    </tr>\n",
       "    <tr>\n",
       "      <th></th>\n",
       "      <th></th>\n",
       "      <th>mAP@50</th>\n",
       "      <th>mAP@75</th>\n",
       "      <th>Ti</th>\n",
       "      <th>Tf</th>\n",
       "      <th>mIoU</th>\n",
       "      <th>Ti</th>\n",
       "      <th>Tf</th>\n",
       "      <th>mF1Score</th>\n",
       "      <th>Ti</th>\n",
       "      <th>Tf</th>\n",
       "    </tr>\n",
       "  </thead>\n",
       "  <tbody>\n",
       "    <tr>\n",
       "      <th>a</th>\n",
       "      <th>a</th>\n",
       "      <td>NaN</td>\n",
       "      <td>NaN</td>\n",
       "      <td>NaN</td>\n",
       "      <td>NaN</td>\n",
       "      <td>NaN</td>\n",
       "      <td>NaN</td>\n",
       "      <td>NaN</td>\n",
       "      <td>NaN</td>\n",
       "      <td>NaN</td>\n",
       "      <td>NaN</td>\n",
       "    </tr>\n",
       "  </tbody>\n",
       "</table>\n",
       "</div>"
      ],
      "text/plain": [
       "    Object detection                  Drivable area           Lane marking   \n",
       "              mAP@50 mAP@75   Ti   Tf          mIoU   Ti   Tf     mF1Score   \n",
       "a a              NaN    NaN  NaN  NaN           NaN  NaN  NaN          NaN  \\\n",
       "\n",
       "               \n",
       "      Ti   Tf  \n",
       "a a  NaN  NaN  "
      ]
     },
     "execution_count": 61,
     "metadata": {},
     "output_type": "execute_result"
    }
   ],
   "source": [
    "df"
   ]
  },
  {
   "cell_type": "code",
   "execution_count": 57,
   "id": "10534c1c-edd9-4ea6-8781-91fd3b50804f",
   "metadata": {},
   "outputs": [],
   "source": [
    "a = pd.MultiIndex.from_tuples([('a','a')])"
   ]
  },
  {
   "cell_type": "code",
   "execution_count": 64,
   "id": "f5df608c-d2e8-4bf9-aa0b-4f2307e73c9b",
   "metadata": {},
   "outputs": [
    {
     "data": {
      "text/html": [
       "<div>\n",
       "<style scoped>\n",
       "    .dataframe tbody tr th:only-of-type {\n",
       "        vertical-align: middle;\n",
       "    }\n",
       "\n",
       "    .dataframe tbody tr th {\n",
       "        vertical-align: top;\n",
       "    }\n",
       "\n",
       "    .dataframe thead tr th {\n",
       "        text-align: left;\n",
       "    }\n",
       "</style>\n",
       "<table border=\"1\" class=\"dataframe\">\n",
       "  <thead>\n",
       "    <tr>\n",
       "      <th></th>\n",
       "      <th></th>\n",
       "      <th colspan=\"4\" halign=\"left\">Object detection</th>\n",
       "      <th colspan=\"3\" halign=\"left\">Drivable area</th>\n",
       "      <th colspan=\"3\" halign=\"left\">Lane marking</th>\n",
       "    </tr>\n",
       "    <tr>\n",
       "      <th></th>\n",
       "      <th></th>\n",
       "      <th>mAP@50</th>\n",
       "      <th>mAP@75</th>\n",
       "      <th>Ti</th>\n",
       "      <th>Tf</th>\n",
       "      <th>mIoU</th>\n",
       "      <th>Ti</th>\n",
       "      <th>Tf</th>\n",
       "      <th>mF1Score</th>\n",
       "      <th>Ti</th>\n",
       "      <th>Tf</th>\n",
       "    </tr>\n",
       "  </thead>\n",
       "  <tbody>\n",
       "    <tr>\n",
       "      <th>teste</th>\n",
       "      <th>tese2</th>\n",
       "      <td>10</td>\n",
       "      <td>NaN</td>\n",
       "      <td>NaN</td>\n",
       "      <td>NaN</td>\n",
       "      <td>NaN</td>\n",
       "      <td>NaN</td>\n",
       "      <td>NaN</td>\n",
       "      <td>NaN</td>\n",
       "      <td>NaN</td>\n",
       "      <td>NaN</td>\n",
       "    </tr>\n",
       "  </tbody>\n",
       "</table>\n",
       "</div>"
      ],
      "text/plain": [
       "            Object detection                  Drivable area             \n",
       "                      mAP@50 mAP@75   Ti   Tf          mIoU   Ti   Tf   \n",
       "teste tese2               10    NaN  NaN  NaN           NaN  NaN  NaN  \\\n",
       "\n",
       "            Lane marking            \n",
       "                mF1Score   Ti   Tf  \n",
       "teste tese2          NaN  NaN  NaN  "
      ]
     },
     "execution_count": 64,
     "metadata": {},
     "output_type": "execute_result"
    }
   ],
   "source": [
    "\n",
    "# df.loc[a,('Object detection','mAP@75')]=10\n",
    "df.loc[('teste','tese2'),('Object detection','mAP@50')]=10\n",
    "# pd.MultiIndex.from_tuples(('teste','teste1'))\n",
    "df"
   ]
  },
  {
   "cell_type": "code",
   "execution_count": 66,
   "id": "6f60ff08-0c50-4af9-a846-935c4c91b41b",
   "metadata": {},
   "outputs": [
    {
     "data": {
      "text/plain": [
       "False"
      ]
     },
     "execution_count": 66,
     "metadata": {},
     "output_type": "execute_result"
    }
   ],
   "source": [
    "# print(df.get(['teste2',('Object detection','mAP@75')]))\n",
    "# df.loc['teste2'][('Object detection','mAP@75')]\n",
    "# math.isnan(df.loc['teste2',('Object detection','mAP@50')])\n",
    "'test2' in df.index"
   ]
  },
  {
   "cell_type": "code",
   "execution_count": 6,
   "id": "fb6bf944-6b00-48d9-bb3f-b3c3b2e9bb33",
   "metadata": {},
   "outputs": [],
   "source": [
    "# df.to_excel(\"output.xlsx\")  \n",
    "with pd.ExcelWriter('output.xlsx') as writer:  \n",
    "    df.to_excel(writer, sheet_name='Sheet_name_1')  "
   ]
  },
  {
   "cell_type": "code",
   "execution_count": 21,
   "id": "57cbce8d-2a13-43d0-8316-8008af89dcc2",
   "metadata": {},
   "outputs": [
    {
     "name": "stdout",
     "output_type": "stream",
     "text": [
      "\u001b[1;31;48mCUDA NOT DETECTED! Aborting...\u001b[1;37;0m\n",
      "\u001b[1;31;48mTeste\u001b[1;37;0m kdf \n"
     ]
    }
   ],
   "source": [
    "print('\\033[1;31;48m' + \"CUDA NOT DETECTED! Aborting...\" + '\\033[1;37;0m')\n",
    "color_red = '\\033[1;31;48m'\n",
    "reset = '\\033[1;37;0m'\n",
    "\n",
    "print(f\"{color_red}Teste{reset}\")"
   ]
  },
  {
   "cell_type": "code",
   "execution_count": 11,
   "id": "64e2e089-9d17-4c0a-8d50-3fa65cfa254c",
   "metadata": {},
   "outputs": [],
   "source": [
    "columns_Resume = pd.MultiIndex.from_tuples([('','Image'),('','Class'),('Object detection','Precision'),('Object detection','Recall'),('Object detection','Ti'),('Object detection','Tf'),('Drivable area','IoU'),('Drivable area','Ti'),('Drivable area','Tf'),('Lane marking','IoU'),('Lane marking','Ti'),('Lane marking','Tf')])"
   ]
  },
  {
   "cell_type": "code",
   "execution_count": 12,
   "id": "9f9d7075-e280-4bb3-ad6b-844c6bfd90b5",
   "metadata": {},
   "outputs": [
    {
     "data": {
      "text/html": [
       "<div>\n",
       "<style scoped>\n",
       "    .dataframe tbody tr th:only-of-type {\n",
       "        vertical-align: middle;\n",
       "    }\n",
       "\n",
       "    .dataframe tbody tr th {\n",
       "        vertical-align: top;\n",
       "    }\n",
       "\n",
       "    .dataframe thead tr th {\n",
       "        text-align: left;\n",
       "    }\n",
       "</style>\n",
       "<table border=\"1\" class=\"dataframe\">\n",
       "  <thead>\n",
       "    <tr>\n",
       "      <th></th>\n",
       "      <th colspan=\"2\" halign=\"left\"></th>\n",
       "      <th colspan=\"4\" halign=\"left\">Object detection</th>\n",
       "      <th colspan=\"3\" halign=\"left\">Drivable area</th>\n",
       "      <th colspan=\"3\" halign=\"left\">Lane marking</th>\n",
       "    </tr>\n",
       "    <tr>\n",
       "      <th></th>\n",
       "      <th>Image</th>\n",
       "      <th>Class</th>\n",
       "      <th>Precision</th>\n",
       "      <th>Recall</th>\n",
       "      <th>Ti</th>\n",
       "      <th>Tf</th>\n",
       "      <th>IoU</th>\n",
       "      <th>Ti</th>\n",
       "      <th>Tf</th>\n",
       "      <th>IoU</th>\n",
       "      <th>Ti</th>\n",
       "      <th>Tf</th>\n",
       "    </tr>\n",
       "  </thead>\n",
       "  <tbody>\n",
       "  </tbody>\n",
       "</table>\n",
       "</div>"
      ],
      "text/plain": [
       "Empty DataFrame\n",
       "Columns: [(, Image), (, Class), (Object detection, Precision), (Object detection, Recall), (Object detection, Ti), (Object detection, Tf), (Drivable area, IoU), (Drivable area, Ti), (Drivable area, Tf), (Lane marking, IoU), (Lane marking, Ti), (Lane marking, Tf)]\n",
       "Index: []"
      ]
     },
     "execution_count": 12,
     "metadata": {},
     "output_type": "execute_result"
    }
   ],
   "source": [
    "df = pd.DataFrame(columns=columns_Resume)\n",
    "df"
   ]
  }
 ],
 "metadata": {
  "kernelspec": {
   "display_name": "Python 3 (ipykernel)",
   "language": "python",
   "name": "python3"
  },
  "language_info": {
   "codemirror_mode": {
    "name": "ipython",
    "version": 3
   },
   "file_extension": ".py",
   "mimetype": "text/x-python",
   "name": "python",
   "nbconvert_exporter": "python",
   "pygments_lexer": "ipython3",
   "version": "3.8.10"
  }
 },
 "nbformat": 4,
 "nbformat_minor": 5
}
