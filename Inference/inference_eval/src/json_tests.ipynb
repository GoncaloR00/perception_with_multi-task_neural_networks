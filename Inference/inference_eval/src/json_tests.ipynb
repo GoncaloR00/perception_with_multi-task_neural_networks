{
 "cells": [
  {
   "cell_type": "code",
   "execution_count": 1,
   "id": "b048d1aa-b42d-4749-8816-5ff111898627",
   "metadata": {},
   "outputs": [],
   "source": [
    "import json"
   ]
  },
  {
   "cell_type": "code",
   "execution_count": 13,
   "id": "8d8a64a9-3e33-4709-8e58-5cc4642df731",
   "metadata": {},
   "outputs": [],
   "source": [
    "f = open('./test.json')\n",
    "teste = json.load(f)"
   ]
  },
  {
   "cell_type": "code",
   "execution_count": 57,
   "id": "f30421e0-c8cd-42be-ba2a-666fcadc4337",
   "metadata": {},
   "outputs": [
    {
     "data": {
      "text/plain": [
       "452.934718"
      ]
     },
     "execution_count": 57,
     "metadata": {},
     "output_type": "execute_result"
    }
   ],
   "source": [
    "teste[0]['labels'][0]\n",
    "#     |            |\n",
    "# nome da imagem   |\n",
    "#                  |\n",
    "#    id da uma caixa da imagem\n",
    "\n",
    "teste[0]['labels'][0]['category']\n",
    "teste[0]['labels'][33]['box2d']['x1']\n",
    "\n",
    "\n",
    "\n",
    "\n",
    "\n",
    "# print([*range(len(teste[0]['labels']))])\n"
   ]
  },
  {
   "cell_type": "code",
   "execution_count": 58,
   "id": "68c33170-9988-445e-baa1-79d231f8eaed",
   "metadata": {},
   "outputs": [],
   "source": [
    "img_id = 0\n",
    "boxes = {}\n",
    "for idx in range(len(teste[img_id]['labels'])):\n",
    "    box = (teste[img_id]['labels'][idx]['box2d']['x1'], teste[img_id]['labels'][idx]['box2d']['y1'], teste[img_id]['labels'][idx]['box2d']['x2'], teste[img_id]['labels'][idx]['box2d']['y2'])\n",
    "    if teste[img_id]['labels'][idx]['category'] in boxes:\n",
    "        boxes[teste[img_id]['labels'][idx]['category']].append(box)\n",
    "    else:\n",
    "        boxes[teste[img_id]['labels'][idx]['category']] = [box]"
   ]
  },
  {
   "cell_type": "code",
   "execution_count": 59,
   "id": "835ddffd-46a9-4168-b293-8716bd2ff15b",
   "metadata": {},
   "outputs": [
    {
     "data": {
      "text/plain": [
       "{'traffic sign': [(1000.698742, 281.992415, 1040.626872, 326.91156),\n",
       "  (214.613695, 172.190058, 274.505889, 229.586743),\n",
       "  (797.314833, 313.186265, 829.756437, 341.884608),\n",
       "  (652.575363, 303.204232, 685.016968, 315.681772),\n",
       "  (270.762627, 288.231184, 309.443003, 301.956478),\n",
       "  (220.852466, 300.708724, 232.082252, 311.938512)],\n",
       " 'traffic light': [(707.476543, 311.93851, 716.210821, 328.159313),\n",
       "  (626.37253, 295.717708, 636.354562, 316.929527),\n",
       "  (316.929527, 289.478938, 329.407067, 306.947495),\n",
       "  (712.467558, 336.893592, 726.192853, 353.114395),\n",
       "  (602.665203, 340.636854, 610.151727, 353.114395),\n",
       "  (591.435416, 328.159313, 597.674186, 341.884608),\n",
       "  (529.047714, 331.902575, 536.534238, 341.884608)],\n",
       " 'car': [(205.879417, 338.141346, 281.992413, 388.051507),\n",
       "  (47.414654, 344.380116, 129.76642, 400.529049),\n",
       "  (247.0553, 344.380116, 346.875624, 395.538032),\n",
       "  (0.0, 336.893592, 52.40567, 403.024556),\n",
       "  (683.769215, 356.857655, 721.201837, 393.042522),\n",
       "  (706.228788, 364.344179, 733.679378, 390.547015),\n",
       "  (727.440607, 365.591935, 761.129966, 400.529049),\n",
       "  (748.652426, 361.848672, 808.54462, 409.263326),\n",
       "  (787.332801, 358.10541, 905.869435, 425.484129),\n",
       "  (879.6666, 375.573967, 959.522859, 451.686963),\n",
       "  (934.3556029588718,\n",
       "   334.9158724794359,\n",
       "   1210.109245958872,\n",
       "   483.39860447943596),\n",
       "  (1204.082651, 415.502097, 1278.947894, 530.295469),\n",
       "  (551.507287, 355.609902, 565.232581, 368.087443),\n",
       "  (573.966861, 351.86664, 586.444401, 369.335197),\n",
       "  (581.453385, 356.857655, 597.674187, 378.069474),\n",
       "  (596.426432, 351.86664, 636.354562, 385.555999),\n",
       "  (517.817928, 355.609902, 535.286484, 368.087443),\n",
       "  (501.597125, 356.857655, 517.817928, 370.58295),\n",
       "  (452.934718, 353.114393, 479.137552, 373.078459)],\n",
       " 'rider': [(650.079856, 354.362148, 663.805151, 381.812737)],\n",
       " 'motorcycle': [(648.832101, 366.83969, 663.805151, 388.051507)]}"
      ]
     },
     "execution_count": 59,
     "metadata": {},
     "output_type": "execute_result"
    }
   ],
   "source": [
    "# boxes[teste[0]['labels'][0]['category']]=0\n",
    "# 'traffic sign' in boxes\n",
    "boxes"
   ]
  },
  {
   "cell_type": "code",
   "execution_count": 69,
   "id": "ef414a40-fea8-4b04-b968-2c1231714ec5",
   "metadata": {},
   "outputs": [
    {
     "name": "stdout",
     "output_type": "stream",
     "text": [
      "Equivalent json string of dictionary: {\n",
      "\"2\": \"to\",\n",
      "\"3\": \"Geeks\",\n",
      "\"4\": [\n",
      "\"for\",\n",
      "\"trd\"\n",
      "],\n",
      "\"5\": \"Geeks\",\n",
      "\"6\": NaN\n",
      "}\n"
     ]
    }
   ],
   "source": [
    "import json\n",
    " \n",
    " \n",
    "Dictionary ={(1, 2, 3):'Welcome', 2:'to',\n",
    "            3:'Geeks', 4:['for', 'trd'],\n",
    "            5:'Geeks', 6:float('nan')}\n",
    " \n",
    "# Indentation can be used\n",
    "# for pretty-printing\n",
    "json_string = json.dumps(Dictionary,\n",
    "                         skipkeys = True,\n",
    "                         allow_nan = True,\n",
    "                         indent = False)\n",
    " \n",
    "print('Equivalent json string of dictionary:',\n",
    "      json_string)"
   ]
  }
 ],
 "metadata": {
  "kernelspec": {
   "display_name": "Python 3 (ipykernel)",
   "language": "python",
   "name": "python3"
  },
  "language_info": {
   "codemirror_mode": {
    "name": "ipython",
    "version": 3
   },
   "file_extension": ".py",
   "mimetype": "text/x-python",
   "name": "python",
   "nbconvert_exporter": "python",
   "pygments_lexer": "ipython3",
   "version": "3.8.10"
  }
 },
 "nbformat": 4,
 "nbformat_minor": 5
}
