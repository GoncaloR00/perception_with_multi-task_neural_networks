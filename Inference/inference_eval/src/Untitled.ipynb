{
 "cells": [
  {
   "cell_type": "code",
   "execution_count": 2,
   "id": "fd19344f-a451-4345-9bd6-8ce88c74d6c0",
   "metadata": {},
   "outputs": [],
   "source": [
    "import pickle\n",
    "with open('final.pickle', 'rb') as handle:\n",
    "    b = pickle.load(handle)"
   ]
  },
  {
   "cell_type": "code",
   "execution_count": 4,
   "id": "28755e79-5a9b-4886-b049-a19052d26872",
   "metadata": {},
   "outputs": [
    {
     "name": "stdout",
     "output_type": "stream",
     "text": [
      "[('./raw/10k/val/a4215cd6-00000000.jpg', 'raw/100k/val/b9d34460-5d3c8bcf.jpg'), ('./raw/10k/val/a91b7555-00001280.jpg', 'raw/100k/val/ca2d32b3-5e8835ac.jpg'), ('./raw/10k/val/93fcc01f-00000000.jpg', 'raw/100k/val/b495e3ab-90180a0e.jpg'), ('./raw/10k/val/93fcc01f-00000000.jpg', 'raw/100k/val/bd9dbebc-fc042836.jpg'), ('./raw/10k/val/93fcc01f-00000000.jpg', 'raw/100k/val/c7729bd7-e38ccf62.jpg'), ('./raw/10k/val/a91b7555-00000365.jpg', 'raw/100k/val/bd5a0062-f462f63f.jpg'), ('./raw/10k/val/8a8a572f-261928a7.jpg', 'raw/100k/val/c95fecc3-41401a5f.jpg'), ('./raw/10k/val/9f94fbbf-00000000.jpg', 'raw/100k/val/c90b5398-8d49f2f2.jpg'), ('./raw/10k/val/9f94fbbf-00000000.jpg', 'raw/100k/val/b9102500-70bcb1c3.jpg'), ('./raw/10k/val/9f94fbbf-00000000.jpg', 'raw/100k/val/c90a2111-6d28bf04.jpg'), ('./raw/10k/val/9f94fbbf-00000000.jpg', 'raw/100k/val/bd1c6dd5-1534269e.jpg'), ('./raw/10k/val/9f94fbbf-00000000.jpg', 'raw/100k/val/c3e986e8-1d7a6ddc.jpg'), ('./raw/10k/val/86e4609e-00000000.jpg', 'raw/100k/val/b36a5c73-64eacfbf.jpg'), ('./raw/10k/val/97880acc-e6bec03d.jpg', 'raw/100k/val/b4b68779-1c75351a.jpg'), ('./raw/10k/val/91368b32-dd559718.jpg', 'raw/100k/val/bdae005f-1c0f2e8b.jpg'), ('./raw/10k/val/a91b7555-00000375.jpg', 'raw/100k/val/bd5a0062-f462f63f.jpg'), ('./raw/10k/val/8d72cada-899afec9.jpg', 'raw/100k/val/ca2bcf0e-69e964d2.jpg'), ('./raw/10k/val/8d72cada-899afec9.jpg', 'raw/100k/val/b1e9ee0e-67e26f2e.jpg'), ('./raw/10k/val/8d72cada-899afec9.jpg', 'raw/100k/val/b7e8932c-3f90dbfc.jpg'), ('./raw/10k/val/8d72cada-899afec9.jpg', 'raw/100k/val/bd1e9944-4fd7ac70.jpg'), ('./raw/10k/val/8d72cada-899afec9.jpg', 'raw/100k/val/baa255c5-5c99a79a.jpg'), ('./raw/10k/val/8d72cada-899afec9.jpg', 'raw/100k/val/c18df454-acb6d4fa.jpg'), ('./raw/10k/val/8d72cada-899afec9.jpg', 'raw/100k/val/be791a81-a6b53fef.jpg'), ('./raw/10k/val/9aa07a4e-2a9fdf1b.jpg', 'raw/100k/val/c223e6d7-e1a9bb5a.jpg'), ('./raw/10k/val/7ee6d192-89e2408b.jpg', 'raw/100k/val/bf3ce441-1f58c6c7.jpg'), ('./raw/10k/val/a91b7555-00000390.jpg', 'raw/100k/val/bd5a0062-f462f63f.jpg'), ('./raw/10k/val/a91b7555-00000385.jpg', 'raw/100k/val/bd5a0062-f462f63f.jpg'), ('./raw/10k/val/abf6f644-ade3cfa2.jpg', 'raw/100k/val/c396e833-a3876e00.jpg'), ('./raw/10k/val/91faccca-00000000.jpg', 'raw/100k/val/b68913f1-029e9d1a.jpg'), ('./raw/10k/val/88f82b2a-93448a4d.jpg', 'raw/100k/val/bfe587eb-6335f4b3.jpg'), ('./raw/10k/val/88f82b2a-93448a4d.jpg', 'raw/100k/val/b4d0e72d-3b208072.jpg'), ('./raw/10k/val/9d2cd320-407bfe7c.jpg', 'raw/100k/val/ca2bcf0e-69e964d2.jpg'), ('./raw/10k/val/9d2cd320-407bfe7c.jpg', 'raw/100k/val/b1e9ee0e-67e26f2e.jpg'), ('./raw/10k/val/9d2cd320-407bfe7c.jpg', 'raw/100k/val/b7e8932c-3f90dbfc.jpg'), ('./raw/10k/val/9d2cd320-407bfe7c.jpg', 'raw/100k/val/bd1e9944-4fd7ac70.jpg'), ('./raw/10k/val/9d2cd320-407bfe7c.jpg', 'raw/100k/val/baa255c5-5c99a79a.jpg'), ('./raw/10k/val/9d2cd320-407bfe7c.jpg', 'raw/100k/val/c18df454-acb6d4fa.jpg'), ('./raw/10k/val/9d2cd320-407bfe7c.jpg', 'raw/100k/val/be791a81-a6b53fef.jpg'), ('./raw/10k/val/94be8008-00000000.jpg', 'raw/100k/val/c4b3ce3d-2e77b39d.jpg'), ('./raw/10k/val/94be8008-00000000.jpg', 'raw/100k/val/b5baa2a5-1fe22e65.jpg'), ('./raw/10k/val/a91b7555-00000885.jpg', 'raw/100k/val/c385a199-0bb19524.jpg'), ('./raw/10k/val/a91b7555-00000370.jpg', 'raw/100k/val/bd5a0062-f462f63f.jpg')]\n"
     ]
    }
   ],
   "source": [
    "import os\n",
    "import cv2\n",
    "import numpy as np\n",
    "from skimage.metrics import structural_similarity\n",
    "\n",
    "def compare_images(image1, image2):\n",
    "    # Load the images\n",
    "    img1 = cv2.imread(image1)\n",
    "    img2 = cv2.imread(image2)\n",
    "\n",
    "    # Convert images to grayscale\n",
    "    gray1 = cv2.cvtColor(img1, cv2.COLOR_BGR2GRAY)\n",
    "    gray2 = cv2.cvtColor(img2, cv2.COLOR_BGR2GRAY)\n",
    "\n",
    "    # Compute the structural similarity index\n",
    "    similarity = structural_similarity(gray1, gray2)\n",
    "\n",
    "    return similarity\n",
    "\n",
    "def find_similar_images(image_pairs):\n",
    "    similar_images = []\n",
    "\n",
    "    for image_pair in image_pairs:\n",
    "        image1, image2 = image_pair\n",
    "        similarity = compare_images(image1, image2)\n",
    "        if similarity > 0.9:  # Adjust this threshold as needed\n",
    "            similar_images.append((image1, image2))\n",
    "            print(f\"Imagem A: {image1}   |   Imagem B: {image2}\")\n",
    "            exit()\n",
    "\n",
    "    return similar_images\n",
    "\n",
    "# Example usage\n",
    "similar_images = find_similar_images(b)\n",
    "print(b)\n",
    "for image_pair in similar_images:\n",
    "    print(f\"Similar images: {image_pair[0]} and {image_pair[1]}\")"
   ]
  },
  {
   "cell_type": "code",
   "execution_count": 5,
   "id": "03bdbfc5-f3f2-4649-8206-91438b39cc12",
   "metadata": {},
   "outputs": [
    {
     "name": "stdout",
     "output_type": "stream",
     "text": [
      "[]\n"
     ]
    }
   ],
   "source": [
    "print(similar_images)"
   ]
  }
 ],
 "metadata": {
  "kernelspec": {
   "display_name": "Python 3 (ipykernel)",
   "language": "python",
   "name": "python3"
  },
  "language_info": {
   "codemirror_mode": {
    "name": "ipython",
    "version": 3
   },
   "file_extension": ".py",
   "mimetype": "text/x-python",
   "name": "python",
   "nbconvert_exporter": "python",
   "pygments_lexer": "ipython3",
   "version": "3.8.10"
  }
 },
 "nbformat": 4,
 "nbformat_minor": 5
}
