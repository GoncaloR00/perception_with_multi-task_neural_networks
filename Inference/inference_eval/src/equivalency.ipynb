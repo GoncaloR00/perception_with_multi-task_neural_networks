{
 "cells": [
  {
   "cell_type": "code",
   "execution_count": 23,
   "id": "97701c81-a7b5-41e7-bdb8-cc7228aeb9e2",
   "metadata": {},
   "outputs": [
    {
     "name": "stdout",
     "output_type": "stream",
     "text": [
      "100000000\n"
     ]
    }
   ],
   "source": [
    "images1 = [1, 2, 3, 4, 5, 6, 7, 8, 9, 10]\n",
    "images2 = images1[::-1]\n",
    "image_pairs = [(image1, image2)\n",
    "                   for image1 in images1 for image2 in images2]\n",
    "print(10000*10000)"
   ]
  },
  {
   "cell_type": "code",
   "execution_count": 18,
   "id": "fa0349e3-2ec4-47fa-938a-0f55917c781e",
   "metadata": {},
   "outputs": [],
   "source": [
    "import os\n",
    "import cv2\n",
    "import numpy as np\n",
    "from skimage.metrics import structural_similarity\n",
    "\n",
    "def compare_images(image1, image2):\n",
    "    # Load the images\n",
    "    img1 = cv2.imread(image1)\n",
    "    img2 = cv2.imread(image2)\n",
    "\n",
    "    # Convert images to grayscale\n",
    "    gray1 = cv2.cvtColor(img1, cv2.COLOR_BGR2GRAY)\n",
    "    gray2 = cv2.cvtColor(img2, cv2.COLOR_BGR2GRAY)\n",
    "\n",
    "    # Compute the structural similarity index\n",
    "    similarity = structural_similarity(gray1, gray2)\n",
    "\n",
    "    return similarity\n",
    "\n",
    "def find_similar_images(folder1, folder2):\n",
    "    # Get the list of images in folder1 and folder2\n",
    "    images1 = os.listdir(folder1)\n",
    "    images2 = os.listdir(folder2)\n",
    "\n",
    "    similar_images = []\n",
    "\n",
    "    for image1 in images1:\n",
    "        for image2 in images2:\n",
    "            print(\"working\")\n",
    "            image_path1 = os.path.join(folder1, image1)\n",
    "            image_path2 = os.path.join(folder2, image2)\n",
    "\n",
    "            similarity = compare_images(image_path1, image_path2)\n",
    "\n",
    "            if similarity > 0.9:  # Adjust this threshold as needed\n",
    "                similar_images.append((image1, image2))\n",
    "                print(f\"Imagem A: {image1}   |   Imagem B: {image2}\")\n",
    "                exit()\n",
    "\n",
    "    return similar_images\n",
    "\n",
    "# # Example usage\n",
    "# folder1 = './raw/10k/val'\n",
    "# folder2 = 'raw/100k/val'\n",
    "\n",
    "# similar_images = find_similar_images(folder1, folder2)\n",
    "\n",
    "# for image_pair in similar_images:\n",
    "#     print(f\"Similar images: {image_pair[0]} and {image_pair[1]}\")"
   ]
  },
  {
   "cell_type": "code",
   "execution_count": 12,
   "id": "a9a5ac18-a8bb-490c-94e6-7ae326c34a5b",
   "metadata": {},
   "outputs": [],
   "source": [
    "import os\n",
    "import cv2\n",
    "import numpy as np\n",
    "from skimage.metrics import structural_similarity\n",
    "from multiprocessing import Pool\n",
    "\n",
    "def compare_images(args):\n",
    "    image1, image2 = args\n",
    "    img1 = cv2.imread(image1)\n",
    "    img2 = cv2.imread(image2)\n",
    "\n",
    "    gray1 = cv2.cvtColor(img1, cv2.COLOR_BGR2GRAY)\n",
    "    gray2 = cv2.cvtColor(img2, cv2.COLOR_BGR2GRAY)\n",
    "\n",
    "    similarity = structural_similarity(gray1, gray2)\n",
    "    print(similarity)\n",
    "    return image1, image2, similarity\n",
    "\n",
    "def find_similar_images(folder1, folder2):\n",
    "    images1 = os.listdir(folder1)\n",
    "    images2 = os.listdir(folder2)\n",
    "\n",
    "    image_pairs = [(os.path.join(folder1, image1), os.path.join(folder2, image2))\n",
    "                   for image1 in images1 for image2 in images2]\n",
    "\n",
    "    with Pool() as p:\n",
    "        results = p.map(compare_images, image_pairs)\n",
    "\n",
    "    similar_images = [(image1, image2) for image1, image2, similarity in results if similarity > 0.9]\n",
    "\n",
    "    return similar_images"
   ]
  },
  {
   "cell_type": "code",
   "execution_count": 19,
   "id": "e05624ed-7959-4801-ad29-87227030d589",
   "metadata": {},
   "outputs": [],
   "source": [
    "import os\n",
    "import cv2\n",
    "from PIL import Image\n",
    "import imagehash\n",
    "\n",
    "def compare_images(image1, image2):\n",
    "    hash1 = imagehash.average_hash(Image.open(image1))\n",
    "    hash2 = imagehash.average_hash(Image.open(image2))\n",
    "\n",
    "    similarity = 1.0 - (hash1 - hash2) / len(hash1.hash)  # Compute similarity between hashes\n",
    "    print(similarity)\n",
    "    return similarity\n"
   ]
  },
  {
   "cell_type": "code",
   "execution_count": 50,
   "id": "dabb07e1-7ef6-472a-a7da-d5c06767ee3e",
   "metadata": {},
   "outputs": [],
   "source": [
    "import os\n",
    "from PIL import Image\n",
    "import imagehash\n",
    "from tqdm import tqdm\n",
    "\n",
    "def compare_images(image1, image2, threshold):\n",
    "    hash1 = imagehash.average_hash(Image.open(image1))\n",
    "    hash2 = imagehash.average_hash(Image.open(image2))\n",
    "\n",
    "    # Compute the Hamming distance between the hashes\n",
    "    distance = hash1 - hash2\n",
    "\n",
    "    # Determine if the images are similar based on the threshold\n",
    "    similar = distance <= threshold\n",
    "\n",
    "    return similar\n",
    "\n",
    "def find_similar_images(folder1, folder2, threshold=1):\n",
    "    images1 = os.listdir(folder1)\n",
    "    images2 = os.listdir(folder2)\n",
    "\n",
    "    similar_images = []\n",
    "    counter = 0\n",
    "    for image1 in images1:\n",
    "        counter +=1\n",
    "        print(f\"Imagem nº{counter}\")\n",
    "        for image2 in tqdm(images2):\n",
    "            image_path1 = os.path.join(folder1, image1)\n",
    "            image_path2 = os.path.join(folder2, image2)\n",
    "\n",
    "            if compare_images(image_path1, image_path2, threshold):\n",
    "                similar_images.append((image1, image2))\n",
    "                print(f\"Imagem A: {image1}   |   Imagem B: {image2}\")\n",
    "\n",
    "    return similar_images"
   ]
  },
  {
   "cell_type": "code",
   "execution_count": 10,
   "id": "fc421003-5b05-43aa-95d7-5a89f5a1c9cd",
   "metadata": {},
   "outputs": [],
   "source": [
    "import os\n",
    "from PIL import Image\n",
    "import imagehash\n",
    "from tqdm import tqdm\n",
    "from multiprocessing import Pool\n",
    "\n",
    "def compare_images(args):\n",
    "    image1, image2, threshold = args\n",
    "    hash1 = imagehash.average_hash(Image.open(image1))\n",
    "    hash2 = imagehash.average_hash(Image.open(image2))\n",
    "\n",
    "    # Compute the Hamming distance between the hashes\n",
    "    distance = abs(hash1 - hash2)\n",
    "\n",
    "    # Determine if the images are similar based on the threshold\n",
    "    similar = distance <= threshold\n",
    "    \n",
    "    if similar:\n",
    "        print(f\"Imagem A: {image1}   |   Imagem B: {image2}\")\n",
    "        return image1, image2\n",
    "\n",
    "def find_similar_images(folder1, folder2, threshold=0):\n",
    "    images1 = os.listdir(folder1)\n",
    "    images2 = os.listdir(folder2)\n",
    "    # print(f\"Len 1: {len(images1)}  |  Len 1: {len(images2)}\")\n",
    "    similar_images = []\n",
    "    image_pairs = [(os.path.join(folder1, image1), os.path.join(folder2, image2), threshold)\n",
    "                   for image1 in images1 for image2 in images2]\n",
    "    # print(len(image_pairs))\n",
    "    # exit()\n",
    "    with Pool() as p:\n",
    "        results = p.map(compare_images, tqdm(image_pairs))\n",
    "\n",
    "    return results"
   ]
  },
  {
   "cell_type": "code",
   "execution_count": 51,
   "id": "b070614d-d91f-44c7-81a4-b559564786f3",
   "metadata": {},
   "outputs": [
    {
     "name": "stdout",
     "output_type": "stream",
     "text": [
      "Imagem nº1\n"
     ]
    },
    {
     "name": "stderr",
     "output_type": "stream",
     "text": [
      "100%|███████████████████████████████████████████████████████████████████████████████████████████████████████████████████████████████████████████████████████████████████████| 10000/10000 [01:34<00:00, 105.77it/s]\n"
     ]
    },
    {
     "name": "stdout",
     "output_type": "stream",
     "text": [
      "Imagem nº2\n"
     ]
    },
    {
     "name": "stderr",
     "output_type": "stream",
     "text": [
      "100%|████████████████████████████████████████████████████████████████████████████████████████████████████████████████████████████████████████████████████████████████████████| 10000/10000 [01:48<00:00, 92.02it/s]\n"
     ]
    },
    {
     "name": "stdout",
     "output_type": "stream",
     "text": [
      "Imagem nº3\n"
     ]
    },
    {
     "name": "stderr",
     "output_type": "stream",
     "text": [
      "100%|███████████████████████████████████████████████████████████████████████████████████████████████████████████████████████████████████████████████████████████████████████| 10000/10000 [01:39<00:00, 100.63it/s]\n"
     ]
    },
    {
     "name": "stdout",
     "output_type": "stream",
     "text": [
      "Imagem nº4\n"
     ]
    },
    {
     "name": "stderr",
     "output_type": "stream",
     "text": [
      " 63%|█████████████████████████████████████████████████████████████████████████████████████████████████████████▍                                                              | 6275/10000 [01:00<00:36, 103.46it/s]\n"
     ]
    },
    {
     "ename": "KeyboardInterrupt",
     "evalue": "",
     "output_type": "error",
     "traceback": [
      "\u001b[0;31m---------------------------------------------------------------------------\u001b[0m",
      "\u001b[0;31mKeyboardInterrupt\u001b[0m                         Traceback (most recent call last)",
      "Cell \u001b[0;32mIn[51], line 8\u001b[0m\n\u001b[1;32m      4\u001b[0m folder2 \u001b[38;5;241m=\u001b[39m \u001b[38;5;124m'\u001b[39m\u001b[38;5;124mraw/100k/val\u001b[39m\u001b[38;5;124m'\u001b[39m\n\u001b[1;32m      5\u001b[0m \u001b[38;5;66;03m# folder1 = './abs'\u001b[39;00m\n\u001b[1;32m      6\u001b[0m \u001b[38;5;66;03m# folder2 = './bsb'\u001b[39;00m\n\u001b[0;32m----> 8\u001b[0m similar_images \u001b[38;5;241m=\u001b[39m \u001b[43mfind_similar_images\u001b[49m\u001b[43m(\u001b[49m\u001b[43mfolder1\u001b[49m\u001b[43m,\u001b[49m\u001b[43m \u001b[49m\u001b[43mfolder2\u001b[49m\u001b[43m)\u001b[49m\n\u001b[1;32m      9\u001b[0m \u001b[38;5;28;01mwith\u001b[39;00m \u001b[38;5;28mopen\u001b[39m(\u001b[38;5;124m'\u001b[39m\u001b[38;5;124mpotenciais.pickle\u001b[39m\u001b[38;5;124m'\u001b[39m, \u001b[38;5;124m'\u001b[39m\u001b[38;5;124mwb\u001b[39m\u001b[38;5;124m'\u001b[39m) \u001b[38;5;28;01mas\u001b[39;00m handle:\n\u001b[1;32m     10\u001b[0m     pickle\u001b[38;5;241m.\u001b[39mdump(similar_images, handle, protocol\u001b[38;5;241m=\u001b[39mpickle\u001b[38;5;241m.\u001b[39mHIGHEST_PROTOCOL)\n",
      "Cell \u001b[0;32mIn[50], line 31\u001b[0m, in \u001b[0;36mfind_similar_images\u001b[0;34m(folder1, folder2, threshold)\u001b[0m\n\u001b[1;32m     28\u001b[0m image_path1 \u001b[38;5;241m=\u001b[39m os\u001b[38;5;241m.\u001b[39mpath\u001b[38;5;241m.\u001b[39mjoin(folder1, image1)\n\u001b[1;32m     29\u001b[0m image_path2 \u001b[38;5;241m=\u001b[39m os\u001b[38;5;241m.\u001b[39mpath\u001b[38;5;241m.\u001b[39mjoin(folder2, image2)\n\u001b[0;32m---> 31\u001b[0m \u001b[38;5;28;01mif\u001b[39;00m \u001b[43mcompare_images\u001b[49m\u001b[43m(\u001b[49m\u001b[43mimage_path1\u001b[49m\u001b[43m,\u001b[49m\u001b[43m \u001b[49m\u001b[43mimage_path2\u001b[49m\u001b[43m,\u001b[49m\u001b[43m \u001b[49m\u001b[43mthreshold\u001b[49m\u001b[43m)\u001b[49m:\n\u001b[1;32m     32\u001b[0m     similar_images\u001b[38;5;241m.\u001b[39mappend((image1, image2))\n\u001b[1;32m     33\u001b[0m     \u001b[38;5;28mprint\u001b[39m(\u001b[38;5;124mf\u001b[39m\u001b[38;5;124m\"\u001b[39m\u001b[38;5;124mImagem A: \u001b[39m\u001b[38;5;132;01m{\u001b[39;00mimage1\u001b[38;5;132;01m}\u001b[39;00m\u001b[38;5;124m   |   Imagem B: \u001b[39m\u001b[38;5;132;01m{\u001b[39;00mimage2\u001b[38;5;132;01m}\u001b[39;00m\u001b[38;5;124m\"\u001b[39m)\n",
      "Cell \u001b[0;32mIn[50], line 7\u001b[0m, in \u001b[0;36mcompare_images\u001b[0;34m(image1, image2, threshold)\u001b[0m\n\u001b[1;32m      6\u001b[0m \u001b[38;5;28;01mdef\u001b[39;00m \u001b[38;5;21mcompare_images\u001b[39m(image1, image2, threshold):\n\u001b[0;32m----> 7\u001b[0m     hash1 \u001b[38;5;241m=\u001b[39m \u001b[43mimagehash\u001b[49m\u001b[38;5;241;43m.\u001b[39;49m\u001b[43maverage_hash\u001b[49m\u001b[43m(\u001b[49m\u001b[43mImage\u001b[49m\u001b[38;5;241;43m.\u001b[39;49m\u001b[43mopen\u001b[49m\u001b[43m(\u001b[49m\u001b[43mimage1\u001b[49m\u001b[43m)\u001b[49m\u001b[43m)\u001b[49m\n\u001b[1;32m      8\u001b[0m     hash2 \u001b[38;5;241m=\u001b[39m imagehash\u001b[38;5;241m.\u001b[39maverage_hash(Image\u001b[38;5;241m.\u001b[39mopen(image2))\n\u001b[1;32m     10\u001b[0m     \u001b[38;5;66;03m# Compute the Hamming distance between the hashes\u001b[39;00m\n",
      "File \u001b[0;32m~/.local/lib/python3.8/site-packages/imagehash/__init__.py:248\u001b[0m, in \u001b[0;36maverage_hash\u001b[0;34m(image, hash_size, mean)\u001b[0m\n\u001b[1;32m    245\u001b[0m \t\u001b[38;5;28;01mraise\u001b[39;00m \u001b[38;5;167;01mValueError\u001b[39;00m(\u001b[38;5;124m'\u001b[39m\u001b[38;5;124mHash size must be greater than or equal to 2\u001b[39m\u001b[38;5;124m'\u001b[39m)\n\u001b[1;32m    247\u001b[0m \u001b[38;5;66;03m# reduce size and complexity, then covert to grayscale\u001b[39;00m\n\u001b[0;32m--> 248\u001b[0m image \u001b[38;5;241m=\u001b[39m \u001b[43mimage\u001b[49m\u001b[38;5;241;43m.\u001b[39;49m\u001b[43mconvert\u001b[49m\u001b[43m(\u001b[49m\u001b[38;5;124;43m'\u001b[39;49m\u001b[38;5;124;43mL\u001b[39;49m\u001b[38;5;124;43m'\u001b[39;49m\u001b[43m)\u001b[49m\u001b[38;5;241m.\u001b[39mresize((hash_size, hash_size), ANTIALIAS)\n\u001b[1;32m    250\u001b[0m \u001b[38;5;66;03m# find average pixel value; 'pixels' is an array of the pixel values, ranging from 0 (black) to 255 (white)\u001b[39;00m\n\u001b[1;32m    251\u001b[0m pixels \u001b[38;5;241m=\u001b[39m numpy\u001b[38;5;241m.\u001b[39masarray(image)\n",
      "File \u001b[0;32m~/.local/lib/python3.8/site-packages/PIL/Image.py:933\u001b[0m, in \u001b[0;36mImage.convert\u001b[0;34m(self, mode, matrix, dither, palette, colors)\u001b[0m\n\u001b[1;32m    885\u001b[0m \u001b[38;5;28;01mdef\u001b[39;00m \u001b[38;5;21mconvert\u001b[39m(\n\u001b[1;32m    886\u001b[0m     \u001b[38;5;28mself\u001b[39m, mode\u001b[38;5;241m=\u001b[39m\u001b[38;5;28;01mNone\u001b[39;00m, matrix\u001b[38;5;241m=\u001b[39m\u001b[38;5;28;01mNone\u001b[39;00m, dither\u001b[38;5;241m=\u001b[39m\u001b[38;5;28;01mNone\u001b[39;00m, palette\u001b[38;5;241m=\u001b[39mPalette\u001b[38;5;241m.\u001b[39mWEB, colors\u001b[38;5;241m=\u001b[39m\u001b[38;5;241m256\u001b[39m\n\u001b[1;32m    887\u001b[0m ):\n\u001b[1;32m    888\u001b[0m \u001b[38;5;250m    \u001b[39m\u001b[38;5;124;03m\"\"\"\u001b[39;00m\n\u001b[1;32m    889\u001b[0m \u001b[38;5;124;03m    Returns a converted copy of this image. For the \"P\" mode, this\u001b[39;00m\n\u001b[1;32m    890\u001b[0m \u001b[38;5;124;03m    method translates pixels through the palette.  If mode is\u001b[39;00m\n\u001b[0;32m   (...)\u001b[0m\n\u001b[1;32m    930\u001b[0m \u001b[38;5;124;03m    :returns: An :py:class:`~PIL.Image.Image` object.\u001b[39;00m\n\u001b[1;32m    931\u001b[0m \u001b[38;5;124;03m    \"\"\"\u001b[39;00m\n\u001b[0;32m--> 933\u001b[0m     \u001b[38;5;28;43mself\u001b[39;49m\u001b[38;5;241;43m.\u001b[39;49m\u001b[43mload\u001b[49m\u001b[43m(\u001b[49m\u001b[43m)\u001b[49m\n\u001b[1;32m    935\u001b[0m     has_transparency \u001b[38;5;241m=\u001b[39m \u001b[38;5;28mself\u001b[39m\u001b[38;5;241m.\u001b[39minfo\u001b[38;5;241m.\u001b[39mget(\u001b[38;5;124m\"\u001b[39m\u001b[38;5;124mtransparency\u001b[39m\u001b[38;5;124m\"\u001b[39m) \u001b[38;5;129;01mis\u001b[39;00m \u001b[38;5;129;01mnot\u001b[39;00m \u001b[38;5;28;01mNone\u001b[39;00m\n\u001b[1;32m    936\u001b[0m     \u001b[38;5;28;01mif\u001b[39;00m \u001b[38;5;129;01mnot\u001b[39;00m mode \u001b[38;5;129;01mand\u001b[39;00m \u001b[38;5;28mself\u001b[39m\u001b[38;5;241m.\u001b[39mmode \u001b[38;5;241m==\u001b[39m \u001b[38;5;124m\"\u001b[39m\u001b[38;5;124mP\u001b[39m\u001b[38;5;124m\"\u001b[39m:\n\u001b[1;32m    937\u001b[0m         \u001b[38;5;66;03m# determine default mode\u001b[39;00m\n",
      "File \u001b[0;32m~/.local/lib/python3.8/site-packages/PIL/ImageFile.py:269\u001b[0m, in \u001b[0;36mImageFile.load\u001b[0;34m(self)\u001b[0m\n\u001b[1;32m    266\u001b[0m         \u001b[38;5;28;01mraise\u001b[39;00m \u001b[38;5;167;01mOSError\u001b[39;00m(msg)\n\u001b[1;32m    268\u001b[0m b \u001b[38;5;241m=\u001b[39m b \u001b[38;5;241m+\u001b[39m s\n\u001b[0;32m--> 269\u001b[0m n, err_code \u001b[38;5;241m=\u001b[39m \u001b[43mdecoder\u001b[49m\u001b[38;5;241;43m.\u001b[39;49m\u001b[43mdecode\u001b[49m\u001b[43m(\u001b[49m\u001b[43mb\u001b[49m\u001b[43m)\u001b[49m\n\u001b[1;32m    270\u001b[0m \u001b[38;5;28;01mif\u001b[39;00m n \u001b[38;5;241m<\u001b[39m \u001b[38;5;241m0\u001b[39m:\n\u001b[1;32m    271\u001b[0m     \u001b[38;5;28;01mbreak\u001b[39;00m\n",
      "\u001b[0;31mKeyboardInterrupt\u001b[0m: "
     ]
    }
   ],
   "source": [
    "import pickle\n",
    "# Example usage\n",
    "folder1 = './raw/10k/val'\n",
    "folder2 = 'raw/100k/val'\n",
    "# folder1 = './abs'\n",
    "# folder2 = './bsb'\n",
    "\n",
    "similar_images = find_similar_images(folder1, folder2)\n",
    "with open('potenciais.pickle', 'wb') as handle:\n",
    "    pickle.dump(similar_images, handle, protocol=pickle.HIGHEST_PROTOCOL)\n",
    "for image_pair in similar_images:\n",
    "    print(f\"Similar images: {image_pair[0]} and {image_pair[1]}\")"
   ]
  },
  {
   "cell_type": "code",
   "execution_count": 13,
   "id": "8ef6a0b8-7853-42b1-8277-97cdb50b7bf8",
   "metadata": {},
   "outputs": [
    {
     "name": "stderr",
     "output_type": "stream",
     "text": [
      " 26%|█████████████████████████████████████████▋                                                                                                                     | 2618317/10000000 [00:21<00:13, 528337.68it/s]"
     ]
    },
    {
     "name": "stdout",
     "output_type": "stream",
     "text": [
      "Imagem A: ./raw/10k/val/a91b7555-00001280.jpg   |   Imagem B: raw/100k/val/ca2d32b3-5e8835ac.jpg\n",
      "Imagem A: ./raw/10k/val/a4215cd6-00000000.jpg   |   Imagem B: raw/100k/val/b9d34460-5d3c8bcf.jpg\n",
      "Imagem A: ./raw/10k/val/93fcc01f-00000000.jpg   |   Imagem B: raw/100k/val/b495e3ab-90180a0e.jpg\n",
      "Imagem A: ./raw/10k/val/93fcc01f-00000000.jpg   |   Imagem B: raw/100k/val/bd9dbebc-fc042836.jpg\n",
      "Imagem A: ./raw/10k/val/93fcc01f-00000000.jpg   |   Imagem B: raw/100k/val/c7729bd7-e38ccf62.jpg\n",
      "Imagem A: ./raw/10k/val/a91b7555-00000365.jpg   |   Imagem B: raw/100k/val/bd5a0062-f462f63f.jpg\n"
     ]
    },
    {
     "name": "stderr",
     "output_type": "stream",
     "text": [
      " 32%|███████████████████████████████████████████████████▏                                                                                                          | 3236606/10000000 [1:15:43<2:43:20, 690.08it/s]"
     ]
    },
    {
     "name": "stdout",
     "output_type": "stream",
     "text": [
      "Imagem A: ./raw/10k/val/8a8a572f-261928a7.jpg   |   Imagem B: raw/100k/val/c95fecc3-41401a5f.jpg\n"
     ]
    },
    {
     "name": "stderr",
     "output_type": "stream",
     "text": [
      " 51%|████████████████████████████████████████████████████████████████████████████████▊                                                                             | 5111606/10000000 [1:20:41<07:18, 11142.13it/s]"
     ]
    },
    {
     "name": "stdout",
     "output_type": "stream",
     "text": [
      "Imagem A: ./raw/10k/val/91368b32-dd559718.jpg   |   Imagem B: raw/100k/val/bdae005f-1c0f2e8b.jpg\n",
      "Imagem A: ./raw/10k/val/9f94fbbf-00000000.jpg   |   Imagem B: raw/100k/val/c90b5398-8d49f2f2.jpg\n",
      "Imagem A: ./raw/10k/val/9f94fbbf-00000000.jpg   |   Imagem B: raw/100k/val/b9102500-70bcb1c3.jpg\n",
      "Imagem A: ./raw/10k/val/9f94fbbf-00000000.jpg   |   Imagem B: raw/100k/val/c90a2111-6d28bf04.jpg\n",
      "Imagem A: ./raw/10k/val/9f94fbbf-00000000.jpg   |   Imagem B: raw/100k/val/bd1c6dd5-1534269e.jpg\n",
      "Imagem A: ./raw/10k/val/9f94fbbf-00000000.jpg   |   Imagem B: raw/100k/val/c3e986e8-1d7a6ddc.jpg\n",
      "Imagem A: ./raw/10k/val/a91b7555-00000375.jpg   |   Imagem B: raw/100k/val/bd5a0062-f462f63f.jpg\n",
      "Imagem A: ./raw/10k/val/86e4609e-00000000.jpg   |   Imagem B: raw/100k/val/b36a5c73-64eacfbf.jpg\n"
     ]
    },
    {
     "name": "stderr",
     "output_type": "stream",
     "text": [
      " 62%|██████████████████████████████████████████████████████████████████████████████████████████████████▌                                                            | 6200666/10000000 [2:32:11<31:31, 2008.83it/s]"
     ]
    },
    {
     "name": "stdout",
     "output_type": "stream",
     "text": [
      "Imagem A: ./raw/10k/val/97880acc-e6bec03d.jpg   |   Imagem B: raw/100k/val/b4b68779-1c75351a.jpg\n"
     ]
    },
    {
     "name": "stderr",
     "output_type": "stream",
     "text": [
      " 76%|█████████████████████████████████████████████████████████████████████████████████████████████████████████████████████████                                      | 7611250/10000000 [2:39:51<04:16, 9300.93it/s]"
     ]
    },
    {
     "name": "stdout",
     "output_type": "stream",
     "text": [
      "Imagem A: ./raw/10k/val/abf6f644-ade3cfa2.jpg   |   Imagem B: raw/100k/val/c396e833-a3876e00.jpg\n",
      "Imagem A: ./raw/10k/val/7ee6d192-89e2408b.jpg   |   Imagem B: raw/100k/val/bf3ce441-1f58c6c7.jpg\n",
      "Imagem A: ./raw/10k/val/8d72cada-899afec9.jpg   |   Imagem B: raw/100k/val/ca2bcf0e-69e964d2.jpg\n",
      "Imagem A: ./raw/10k/val/8d72cada-899afec9.jpg   |   Imagem B: raw/100k/val/b1e9ee0e-67e26f2e.jpg\n",
      "Imagem A: ./raw/10k/val/8d72cada-899afec9.jpg   |   Imagem B: raw/100k/val/b7e8932c-3f90dbfc.jpg\n",
      "Imagem A: ./raw/10k/val/8d72cada-899afec9.jpg   |   Imagem B: raw/100k/val/bd1e9944-4fd7ac70.jpg\n",
      "Imagem A: ./raw/10k/val/8d72cada-899afec9.jpg   |   Imagem B: raw/100k/val/baa255c5-5c99a79a.jpg\n",
      "Imagem A: ./raw/10k/val/8d72cada-899afec9.jpg   |   Imagem B: raw/100k/val/c18df454-acb6d4fa.jpg\n",
      "Imagem A: ./raw/10k/val/8d72cada-899afec9.jpg   |   Imagem B: raw/100k/val/be791a81-a6b53fef.jpg\n",
      "Imagem A: ./raw/10k/val/a91b7555-00000390.jpg   |   Imagem B: raw/100k/val/bd5a0062-f462f63f.jpg\n",
      "Imagem A: ./raw/10k/val/91faccca-00000000.jpg   |   Imagem B: raw/100k/val/b68913f1-029e9d1a.jpg\n"
     ]
    },
    {
     "name": "stderr",
     "output_type": "stream",
     "text": [
      " 87%|██████████████████████████████████████████████████████████████████████████████████████████████████████████████████████████████████████████▎                    | 8697278/10000000 [3:48:12<16:22, 1326.32it/s]"
     ]
    },
    {
     "name": "stdout",
     "output_type": "stream",
     "text": [
      "Imagem A: ./raw/10k/val/94be8008-00000000.jpg   |   Imagem B: raw/100k/val/c4b3ce3d-2e77b39d.jpg\n",
      "Imagem A: ./raw/10k/val/a91b7555-00000385.jpg   |   Imagem B: raw/100k/val/bd5a0062-f462f63f.jpg\n",
      "Imagem A: ./raw/10k/val/9aa07a4e-2a9fdf1b.jpg   |   Imagem B: raw/100k/val/c223e6d7-e1a9bb5a.jpg\n"
     ]
    },
    {
     "name": "stderr",
     "output_type": "stream",
     "text": [
      " 89%|█████████████████████████████████████████████████████████████████████████████████████████████████████████████████████████████████████████████▊                  | 8866182/10000000 [3:53:52<21:42, 870.78it/s]"
     ]
    },
    {
     "name": "stdout",
     "output_type": "stream",
     "text": [
      "Imagem A: ./raw/10k/val/94be8008-00000000.jpg   |   Imagem B: raw/100k/val/b5baa2a5-1fe22e65.jpg\n"
     ]
    },
    {
     "name": "stderr",
     "output_type": "stream",
     "text": [
      " 96%|█████████████████████████████████████████████████████████████████████████████████████████████████████████████████████████████████████████████████████████▎     | 9643073/10000000 [3:58:02<01:34, 3774.96it/s]"
     ]
    },
    {
     "name": "stdout",
     "output_type": "stream",
     "text": [
      "Imagem A: ./raw/10k/val/a91b7555-00000885.jpg   |   Imagem B: raw/100k/val/c385a199-0bb19524.jpg\n"
     ]
    },
    {
     "name": "stderr",
     "output_type": "stream",
     "text": [
      "100%|███████████████████████████████████████████████████████████████████████████████████████████████████████████████████████████████████████████████████████████████| 10000000/10000000 [3:59:39<00:00, 695.42it/s]\n"
     ]
    },
    {
     "name": "stdout",
     "output_type": "stream",
     "text": [
      "Imagem A: ./raw/10k/val/a91b7555-00000370.jpg   |   Imagem B: raw/100k/val/bd5a0062-f462f63f.jpg\n",
      "Imagem A: ./raw/10k/val/88f82b2a-93448a4d.jpg   |   Imagem B: raw/100k/val/bfe587eb-6335f4b3.jpg\n",
      "Imagem A: ./raw/10k/val/88f82b2a-93448a4d.jpg   |   Imagem B: raw/100k/val/b4d0e72d-3b208072.jpg\n",
      "Imagem A: ./raw/10k/val/9d2cd320-407bfe7c.jpg   |   Imagem B: raw/100k/val/ca2bcf0e-69e964d2.jpg\n",
      "Imagem A: ./raw/10k/val/9d2cd320-407bfe7c.jpg   |   Imagem B: raw/100k/val/b1e9ee0e-67e26f2e.jpg\n",
      "Imagem A: ./raw/10k/val/9d2cd320-407bfe7c.jpg   |   Imagem B: raw/100k/val/b7e8932c-3f90dbfc.jpg\n",
      "Imagem A: ./raw/10k/val/9d2cd320-407bfe7c.jpg   |   Imagem B: raw/100k/val/bd1e9944-4fd7ac70.jpg\n",
      "Imagem A: ./raw/10k/val/9d2cd320-407bfe7c.jpg   |   Imagem B: raw/100k/val/baa255c5-5c99a79a.jpg\n",
      "Imagem A: ./raw/10k/val/9d2cd320-407bfe7c.jpg   |   Imagem B: raw/100k/val/c18df454-acb6d4fa.jpg\n",
      "Imagem A: ./raw/10k/val/9d2cd320-407bfe7c.jpg   |   Imagem B: raw/100k/val/be791a81-a6b53fef.jpg\n"
     ]
    },
    {
     "name": "stderr",
     "output_type": "stream",
     "text": [
      "IOPub data rate exceeded.\n",
      "The Jupyter server will temporarily stop sending output\n",
      "to the client in order to avoid crashing it.\n",
      "To change this limit, set the config variable\n",
      "`--ServerApp.iopub_data_rate_limit`.\n",
      "\n",
      "Current values:\n",
      "ServerApp.iopub_data_rate_limit=1000000.0 (bytes/sec)\n",
      "ServerApp.rate_limit_window=3.0 (secs)\n",
      "\n"
     ]
    },
    {
     "name": "stdout",
     "output_type": "stream",
     "text": [
      "Similar images: ./raw/10k/val/a91b7555-00001280.jpg and raw/100k/val/ca2d32b3-5e8835ac.jpg\n",
      "Similar images: ./raw/10k/val/93fcc01f-00000000.jpg and raw/100k/val/b495e3ab-90180a0e.jpg\n",
      "Similar images: ./raw/10k/val/93fcc01f-00000000.jpg and raw/100k/val/bd9dbebc-fc042836.jpg\n",
      "Similar images: ./raw/10k/val/93fcc01f-00000000.jpg and raw/100k/val/c7729bd7-e38ccf62.jpg\n",
      "Similar images: ./raw/10k/val/a91b7555-00000365.jpg and raw/100k/val/bd5a0062-f462f63f.jpg\n",
      "Similar images: ./raw/10k/val/8a8a572f-261928a7.jpg and raw/100k/val/c95fecc3-41401a5f.jpg\n",
      "Similar images: ./raw/10k/val/9f94fbbf-00000000.jpg and raw/100k/val/c90b5398-8d49f2f2.jpg\n",
      "Similar images: ./raw/10k/val/9f94fbbf-00000000.jpg and raw/100k/val/b9102500-70bcb1c3.jpg\n",
      "Similar images: ./raw/10k/val/9f94fbbf-00000000.jpg and raw/100k/val/c90a2111-6d28bf04.jpg\n",
      "Similar images: ./raw/10k/val/9f94fbbf-00000000.jpg and raw/100k/val/bd1c6dd5-1534269e.jpg\n",
      "Similar images: ./raw/10k/val/9f94fbbf-00000000.jpg and raw/100k/val/c3e986e8-1d7a6ddc.jpg\n",
      "Similar images: ./raw/10k/val/86e4609e-00000000.jpg and raw/100k/val/b36a5c73-64eacfbf.jpg\n",
      "Similar images: ./raw/10k/val/97880acc-e6bec03d.jpg and raw/100k/val/b4b68779-1c75351a.jpg\n",
      "Similar images: ./raw/10k/val/91368b32-dd559718.jpg and raw/100k/val/bdae005f-1c0f2e8b.jpg\n",
      "Similar images: ./raw/10k/val/a91b7555-00000375.jpg and raw/100k/val/bd5a0062-f462f63f.jpg\n",
      "Similar images: ./raw/10k/val/8d72cada-899afec9.jpg and raw/100k/val/ca2bcf0e-69e964d2.jpg\n",
      "Similar images: ./raw/10k/val/8d72cada-899afec9.jpg and raw/100k/val/b1e9ee0e-67e26f2e.jpg\n",
      "Similar images: ./raw/10k/val/8d72cada-899afec9.jpg and raw/100k/val/b7e8932c-3f90dbfc.jpg\n",
      "Similar images: ./raw/10k/val/8d72cada-899afec9.jpg and raw/100k/val/bd1e9944-4fd7ac70.jpg\n",
      "Similar images: ./raw/10k/val/8d72cada-899afec9.jpg and raw/100k/val/baa255c5-5c99a79a.jpg\n",
      "Similar images: ./raw/10k/val/8d72cada-899afec9.jpg and raw/100k/val/c18df454-acb6d4fa.jpg\n",
      "Similar images: ./raw/10k/val/8d72cada-899afec9.jpg and raw/100k/val/be791a81-a6b53fef.jpg\n",
      "Similar images: ./raw/10k/val/9aa07a4e-2a9fdf1b.jpg and raw/100k/val/c223e6d7-e1a9bb5a.jpg\n",
      "Similar images: ./raw/10k/val/7ee6d192-89e2408b.jpg and raw/100k/val/bf3ce441-1f58c6c7.jpg\n",
      "Similar images: ./raw/10k/val/a91b7555-00000390.jpg and raw/100k/val/bd5a0062-f462f63f.jpg\n",
      "Similar images: ./raw/10k/val/a91b7555-00000385.jpg and raw/100k/val/bd5a0062-f462f63f.jpg\n",
      "Similar images: ./raw/10k/val/abf6f644-ade3cfa2.jpg and raw/100k/val/c396e833-a3876e00.jpg\n",
      "Similar images: ./raw/10k/val/91faccca-00000000.jpg and raw/100k/val/b68913f1-029e9d1a.jpg\n",
      "Similar images: ./raw/10k/val/88f82b2a-93448a4d.jpg and raw/100k/val/bfe587eb-6335f4b3.jpg\n",
      "Similar images: ./raw/10k/val/88f82b2a-93448a4d.jpg and raw/100k/val/b4d0e72d-3b208072.jpg\n",
      "Similar images: ./raw/10k/val/9d2cd320-407bfe7c.jpg and raw/100k/val/ca2bcf0e-69e964d2.jpg\n",
      "Similar images: ./raw/10k/val/9d2cd320-407bfe7c.jpg and raw/100k/val/b1e9ee0e-67e26f2e.jpg\n",
      "Similar images: ./raw/10k/val/9d2cd320-407bfe7c.jpg and raw/100k/val/b7e8932c-3f90dbfc.jpg\n",
      "Similar images: ./raw/10k/val/9d2cd320-407bfe7c.jpg and raw/100k/val/bd1e9944-4fd7ac70.jpg\n",
      "Similar images: ./raw/10k/val/9d2cd320-407bfe7c.jpg and raw/100k/val/baa255c5-5c99a79a.jpg\n",
      "Similar images: ./raw/10k/val/9d2cd320-407bfe7c.jpg and raw/100k/val/c18df454-acb6d4fa.jpg\n",
      "Similar images: ./raw/10k/val/9d2cd320-407bfe7c.jpg and raw/100k/val/be791a81-a6b53fef.jpg\n",
      "Similar images: ./raw/10k/val/94be8008-00000000.jpg and raw/100k/val/c4b3ce3d-2e77b39d.jpg\n",
      "Similar images: ./raw/10k/val/94be8008-00000000.jpg and raw/100k/val/b5baa2a5-1fe22e65.jpg\n",
      "Similar images: ./raw/10k/val/a91b7555-00000885.jpg and raw/100k/val/c385a199-0bb19524.jpg\n",
      "Similar images: ./raw/10k/val/a91b7555-00000370.jpg and raw/100k/val/bd5a0062-f462f63f.jpg\n"
     ]
    }
   ],
   "source": [
    "import pickle\n",
    "# Example usage\n",
    "folder1 = './raw/10k/val'\n",
    "folder2 = 'raw/100k/val'\n",
    "# folder1 = './abs'\n",
    "# folder2 = './bsb'\n",
    "\n",
    "similar_images = find_similar_images(folder1, folder2)\n",
    "print(similar_images)\n",
    "with open('potenciais.pickle', 'wb') as handle:\n",
    "    pickle.dump(similar_images, handle, protocol=pickle.HIGHEST_PROTOCOL)\n",
    "for image_pair in similar_images:\n",
    "    try:\n",
    "        print(f\"Similar images: {image_pair[0]} and {image_pair[1]}\")\n",
    "    except:\n",
    "        pass"
   ]
  },
  {
   "cell_type": "code",
   "execution_count": 14,
   "id": "978ab4b1-e27f-4afe-b70a-45f13ab87bef",
   "metadata": {},
   "outputs": [],
   "source": [
    "new_images = [x for x in similar_images if x is not None]"
   ]
  },
  {
   "cell_type": "code",
   "execution_count": 15,
   "id": "91e95345-4d87-4c48-b281-bb230b52d720",
   "metadata": {},
   "outputs": [
    {
     "data": {
      "text/plain": [
       "[('./raw/10k/val/a4215cd6-00000000.jpg', 'raw/100k/val/b9d34460-5d3c8bcf.jpg'),\n",
       " ('./raw/10k/val/a91b7555-00001280.jpg', 'raw/100k/val/ca2d32b3-5e8835ac.jpg'),\n",
       " ('./raw/10k/val/93fcc01f-00000000.jpg', 'raw/100k/val/b495e3ab-90180a0e.jpg'),\n",
       " ('./raw/10k/val/93fcc01f-00000000.jpg', 'raw/100k/val/bd9dbebc-fc042836.jpg'),\n",
       " ('./raw/10k/val/93fcc01f-00000000.jpg', 'raw/100k/val/c7729bd7-e38ccf62.jpg'),\n",
       " ('./raw/10k/val/a91b7555-00000365.jpg', 'raw/100k/val/bd5a0062-f462f63f.jpg'),\n",
       " ('./raw/10k/val/8a8a572f-261928a7.jpg', 'raw/100k/val/c95fecc3-41401a5f.jpg'),\n",
       " ('./raw/10k/val/9f94fbbf-00000000.jpg', 'raw/100k/val/c90b5398-8d49f2f2.jpg'),\n",
       " ('./raw/10k/val/9f94fbbf-00000000.jpg', 'raw/100k/val/b9102500-70bcb1c3.jpg'),\n",
       " ('./raw/10k/val/9f94fbbf-00000000.jpg', 'raw/100k/val/c90a2111-6d28bf04.jpg'),\n",
       " ('./raw/10k/val/9f94fbbf-00000000.jpg', 'raw/100k/val/bd1c6dd5-1534269e.jpg'),\n",
       " ('./raw/10k/val/9f94fbbf-00000000.jpg', 'raw/100k/val/c3e986e8-1d7a6ddc.jpg'),\n",
       " ('./raw/10k/val/86e4609e-00000000.jpg', 'raw/100k/val/b36a5c73-64eacfbf.jpg'),\n",
       " ('./raw/10k/val/97880acc-e6bec03d.jpg', 'raw/100k/val/b4b68779-1c75351a.jpg'),\n",
       " ('./raw/10k/val/91368b32-dd559718.jpg', 'raw/100k/val/bdae005f-1c0f2e8b.jpg'),\n",
       " ('./raw/10k/val/a91b7555-00000375.jpg', 'raw/100k/val/bd5a0062-f462f63f.jpg'),\n",
       " ('./raw/10k/val/8d72cada-899afec9.jpg', 'raw/100k/val/ca2bcf0e-69e964d2.jpg'),\n",
       " ('./raw/10k/val/8d72cada-899afec9.jpg', 'raw/100k/val/b1e9ee0e-67e26f2e.jpg'),\n",
       " ('./raw/10k/val/8d72cada-899afec9.jpg', 'raw/100k/val/b7e8932c-3f90dbfc.jpg'),\n",
       " ('./raw/10k/val/8d72cada-899afec9.jpg', 'raw/100k/val/bd1e9944-4fd7ac70.jpg'),\n",
       " ('./raw/10k/val/8d72cada-899afec9.jpg', 'raw/100k/val/baa255c5-5c99a79a.jpg'),\n",
       " ('./raw/10k/val/8d72cada-899afec9.jpg', 'raw/100k/val/c18df454-acb6d4fa.jpg'),\n",
       " ('./raw/10k/val/8d72cada-899afec9.jpg', 'raw/100k/val/be791a81-a6b53fef.jpg'),\n",
       " ('./raw/10k/val/9aa07a4e-2a9fdf1b.jpg', 'raw/100k/val/c223e6d7-e1a9bb5a.jpg'),\n",
       " ('./raw/10k/val/7ee6d192-89e2408b.jpg', 'raw/100k/val/bf3ce441-1f58c6c7.jpg'),\n",
       " ('./raw/10k/val/a91b7555-00000390.jpg', 'raw/100k/val/bd5a0062-f462f63f.jpg'),\n",
       " ('./raw/10k/val/a91b7555-00000385.jpg', 'raw/100k/val/bd5a0062-f462f63f.jpg'),\n",
       " ('./raw/10k/val/abf6f644-ade3cfa2.jpg', 'raw/100k/val/c396e833-a3876e00.jpg'),\n",
       " ('./raw/10k/val/91faccca-00000000.jpg', 'raw/100k/val/b68913f1-029e9d1a.jpg'),\n",
       " ('./raw/10k/val/88f82b2a-93448a4d.jpg', 'raw/100k/val/bfe587eb-6335f4b3.jpg'),\n",
       " ('./raw/10k/val/88f82b2a-93448a4d.jpg', 'raw/100k/val/b4d0e72d-3b208072.jpg'),\n",
       " ('./raw/10k/val/9d2cd320-407bfe7c.jpg', 'raw/100k/val/ca2bcf0e-69e964d2.jpg'),\n",
       " ('./raw/10k/val/9d2cd320-407bfe7c.jpg', 'raw/100k/val/b1e9ee0e-67e26f2e.jpg'),\n",
       " ('./raw/10k/val/9d2cd320-407bfe7c.jpg', 'raw/100k/val/b7e8932c-3f90dbfc.jpg'),\n",
       " ('./raw/10k/val/9d2cd320-407bfe7c.jpg', 'raw/100k/val/bd1e9944-4fd7ac70.jpg'),\n",
       " ('./raw/10k/val/9d2cd320-407bfe7c.jpg', 'raw/100k/val/baa255c5-5c99a79a.jpg'),\n",
       " ('./raw/10k/val/9d2cd320-407bfe7c.jpg', 'raw/100k/val/c18df454-acb6d4fa.jpg'),\n",
       " ('./raw/10k/val/9d2cd320-407bfe7c.jpg', 'raw/100k/val/be791a81-a6b53fef.jpg'),\n",
       " ('./raw/10k/val/94be8008-00000000.jpg', 'raw/100k/val/c4b3ce3d-2e77b39d.jpg'),\n",
       " ('./raw/10k/val/94be8008-00000000.jpg', 'raw/100k/val/b5baa2a5-1fe22e65.jpg'),\n",
       " ('./raw/10k/val/a91b7555-00000885.jpg', 'raw/100k/val/c385a199-0bb19524.jpg'),\n",
       " ('./raw/10k/val/a91b7555-00000370.jpg', 'raw/100k/val/bd5a0062-f462f63f.jpg')]"
      ]
     },
     "execution_count": 15,
     "metadata": {},
     "output_type": "execute_result"
    }
   ],
   "source": [
    "new_images"
   ]
  },
  {
   "cell_type": "code",
   "execution_count": 20,
   "id": "de1bbea2-a5ca-42d2-b22f-3bf55ee98f75",
   "metadata": {},
   "outputs": [
    {
     "ename": "NameError",
     "evalue": "name 'ServerApp' is not defined",
     "output_type": "error",
     "traceback": [
      "\u001b[0;31m---------------------------------------------------------------------------\u001b[0m",
      "\u001b[0;31mNameError\u001b[0m                                 Traceback (most recent call last)",
      "Cell \u001b[0;32mIn[20], line 1\u001b[0m\n\u001b[0;32m----> 1\u001b[0m \u001b[38;5;241m-\u001b[39m\u001b[38;5;241m-\u001b[39m\u001b[43mServerApp\u001b[49m\u001b[38;5;241m.\u001b[39miopub_data_rate_limit\n",
      "\u001b[0;31mNameError\u001b[0m: name 'ServerApp' is not defined"
     ]
    }
   ],
   "source": [
    "--ServerApp.iopub_data_rate_limit"
   ]
  },
  {
   "cell_type": "code",
   "execution_count": 21,
   "id": "0d081cd5-82fc-4ead-a2e9-8465f6423e47",
   "metadata": {},
   "outputs": [],
   "source": [
    "with open('final.pickle', 'wb') as handle:\n",
    "    pickle.dump(new_images, handle, protocol=pickle.HIGHEST_PROTOCOL)"
   ]
  }
 ],
 "metadata": {
  "kernelspec": {
   "display_name": "Python 3 (ipykernel)",
   "language": "python",
   "name": "python3"
  },
  "language_info": {
   "codemirror_mode": {
    "name": "ipython",
    "version": 3
   },
   "file_extension": ".py",
   "mimetype": "text/x-python",
   "name": "python",
   "nbconvert_exporter": "python",
   "pygments_lexer": "ipython3",
   "version": "3.8.10"
  }
 },
 "nbformat": 4,
 "nbformat_minor": 5
}
