{
 "cells": [
  {
   "cell_type": "code",
   "execution_count": 2,
   "id": "9f19105e-f316-451c-8844-c378d0825e73",
   "metadata": {},
   "outputs": [],
   "source": [
    "import torch\n",
    "import torch_tensorrt\n",
    "\n",
    "# print(tensorrt.IBuilderConfig.max_workspace_size)"
   ]
  },
  {
   "cell_type": "code",
   "execution_count": 45,
   "id": "48919651-337d-4d05-b7a8-d6e1a63b791d",
   "metadata": {},
   "outputs": [],
   "source": [
    "# load_model = torch.jit.load(\"./models/yolov5s.torchscript\").to(\"cuda\")\n",
    "load_model = torch.jit.load(\"./models/yolopv2.pt\").to(\"cuda\")"
   ]
  },
  {
   "cell_type": "code",
   "execution_count": 19,
   "id": "96a806fe-788e-4d00-a6f9-d033364a4b32",
   "metadata": {},
   "outputs": [],
   "source": [
    "traced_model = torch.jit.trace(load_model, [torch.randn((1, 3, 384, 640)).to(\"cuda\")])"
   ]
  },
  {
   "cell_type": "code",
   "execution_count": 21,
   "id": "ff041ae3-5cac-4239-8f7f-8404d910533e",
   "metadata": {},
   "outputs": [],
   "source": [
    "# torch.device('cuda')\n",
    "load_model = load_model.half()"
   ]
  },
  {
   "cell_type": "code",
   "execution_count": 53,
   "id": "a412af37-765e-48de-a2cf-d7323d758398",
   "metadata": {},
   "outputs": [
    {
     "name": "stderr",
     "output_type": "stream",
     "text": [
      "WARNING: [Torch-TensorRT TorchScript Conversion Context] - CUDA lazy loading is not enabled. Enabling it can significantly reduce device memory usage. See `CUDA_MODULE_LOADING` in https://docs.nvidia.com/cuda/cuda-c-programming-guide/index.html#env-vars\n",
      "WARNING: [Torch-TensorRT] - Dilation not used in Max pooling converter\n",
      "WARNING: [Torch-TensorRT] - Dilation not used in Max pooling converter\n",
      "WARNING: [Torch-TensorRT] - Dilation not used in Max pooling converter\n",
      "WARNING: [Torch-TensorRT] - Dilation not used in Max pooling converter\n",
      "WARNING: [Torch-TensorRT] - Dilation not used in Max pooling converter\n",
      "WARNING: [Torch-TensorRT] - Dilation not used in Max pooling converter\n",
      "WARNING: [Torch-TensorRT] - Dilation not used in Max pooling converter\n",
      "WARNING: [Torch-TensorRT] - Dilation not used in Max pooling converter\n",
      "WARNING: [Torch-TensorRT] - There may be undefined behavior using dynamic shape and aten::size\n",
      "WARNING: [Torch-TensorRT] - There may be undefined behavior using dynamic shape and aten::size\n",
      "WARNING: [Torch-TensorRT] - CUDA lazy loading is not enabled. Enabling it can significantly reduce device memory usage. See `CUDA_MODULE_LOADING` in https://docs.nvidia.com/cuda/cuda-c-programming-guide/index.html#env-vars\n"
     ]
    }
   ],
   "source": [
    "trt_model = torch_tensorrt.compile(\n",
    "    load_model,\n",
    "    inputs = [torch_tensorrt.Input((1, 3, 384, 640), dtype=torch.float32)],\n",
    "    enabled_precisions = {torch.float32},\n",
    "    truncate_long_and_double = True,\n",
    "    device = torch_tensorrt.Device(\"cuda:0\"),\n",
    "    workspace_size=4194304\n",
    ")\n",
    "# torch_tensorrt.dtype.half"
   ]
  },
  {
   "cell_type": "code",
   "execution_count": 50,
   "id": "2500362a-cae8-448b-ad09-d4f1be99bce9",
   "metadata": {},
   "outputs": [
    {
     "name": "stderr",
     "output_type": "stream",
     "text": [
      "WARNING: [Torch-TensorRT TorchScript Conversion Context] - CUDA lazy loading is not enabled. Enabling it can significantly reduce device memory usage. See `CUDA_MODULE_LOADING` in https://docs.nvidia.com/cuda/cuda-c-programming-guide/index.html#env-vars\n",
      "WARNING: [Torch-TensorRT] - Dilation not used in Max pooling converter\n",
      "WARNING: [Torch-TensorRT] - Dilation not used in Max pooling converter\n",
      "WARNING: [Torch-TensorRT] - Dilation not used in Max pooling converter\n",
      "WARNING: [Torch-TensorRT] - Dilation not used in Max pooling converter\n",
      "WARNING: [Torch-TensorRT] - Dilation not used in Max pooling converter\n",
      "WARNING: [Torch-TensorRT] - Dilation not used in Max pooling converter\n",
      "WARNING: [Torch-TensorRT] - Dilation not used in Max pooling converter\n",
      "WARNING: [Torch-TensorRT] - Dilation not used in Max pooling converter\n",
      "WARNING: [Torch-TensorRT] - There may be undefined behavior using dynamic shape and aten::size\n",
      "WARNING: [Torch-TensorRT] - There may be undefined behavior using dynamic shape and aten::size\n",
      "WARNING: [Torch-TensorRT TorchScript Conversion Context] - TensorRT encountered issues when converting weights between types and that could affect accuracy.\n",
      "WARNING: [Torch-TensorRT TorchScript Conversion Context] - If this is not the desired behavior, please modify the weights or retrain with regularization to adjust the magnitude of the weights.\n",
      "WARNING: [Torch-TensorRT TorchScript Conversion Context] - Check verbose logs for the list of affected weights.\n",
      "WARNING: [Torch-TensorRT TorchScript Conversion Context] - - 103 weights are affected by this issue: Detected subnormal FP16 values.\n",
      "WARNING: [Torch-TensorRT TorchScript Conversion Context] - - 5 weights are affected by this issue: Detected values less than smallest positive FP16 subnormal value and converted them to the FP16 minimum subnormalized value.\n",
      "WARNING: [Torch-TensorRT] - CUDA lazy loading is not enabled. Enabling it can significantly reduce device memory usage. See `CUDA_MODULE_LOADING` in https://docs.nvidia.com/cuda/cuda-c-programming-guide/index.html#env-vars\n"
     ]
    }
   ],
   "source": [
    "trt_model_half = torch_tensorrt.compile(\n",
    "    load_model,\n",
    "    inputs = [torch_tensorrt.Input((1, 3, 384, 640))],\n",
    "    enabled_precisions = {torch_tensorrt.dtype.half},\n",
    "    # truncate_long_and_double = True,\n",
    "    device = torch_tensorrt.Device(\"cuda:0\"),\n",
    "    workspace_size=4194304\n",
    ")"
   ]
  },
  {
   "cell_type": "code",
   "execution_count": 41,
   "id": "bfc2d534-36c5-4191-aefe-125ecdfede02",
   "metadata": {},
   "outputs": [],
   "source": [
    "import time\n",
    "import numpy as np\n",
    "\n",
    "import torch.backends.cudnn as cudnn\n",
    "cudnn.benchmark = True\n",
    "\n",
    "def benchmark(model, device=\"cuda:0\", input_shape=(1, 3, 384, 640), dtype='fp32', nwarmup=50, nruns=100):\n",
    "    if dtype == 'fp16':\n",
    "        input_data = torch.randn(input_shape, dtype = torch.half)\n",
    "    else:\n",
    "        input_data = torch.randn(input_shape)\n",
    "    # input_data.half()\n",
    "    input_data = input_data.to(device)\n",
    "        \n",
    "    print(\"Warm up ...\")\n",
    "    with torch.no_grad():\n",
    "        for _ in range(nwarmup):\n",
    "            features = model(input_data)\n",
    "    torch.cuda.synchronize()\n",
    "    print(\"Start timing ...\")\n",
    "    timings = []\n",
    "    with torch.no_grad():\n",
    "        for i in range(1, nruns+1):\n",
    "            start_time = time.time()\n",
    "            features = model(input_data)\n",
    "            torch.cuda.synchronize()\n",
    "            end_time = time.time()\n",
    "            timings.append(end_time - start_time)\n",
    "            if i%10==0:\n",
    "                print('Iteration %d/%d, ave batch time %.2f ms'%(i, nruns, np.mean(timings)*1000))\n",
    "\n",
    "    print(\"Input shape:\", input_data.size())\n",
    "    # print(\"Output features size:\", features.size())\n",
    "    print('Average batch time: %.2f ms'%(np.mean(timings)*1000))"
   ]
  },
  {
   "cell_type": "code",
   "execution_count": 49,
   "id": "9f1b19a4-8bb3-4ac7-8f96-461bd889ac1d",
   "metadata": {},
   "outputs": [
    {
     "name": "stdout",
     "output_type": "stream",
     "text": [
      "Warm up ...\n",
      "Start timing ...\n",
      "Iteration 10/100, ave batch time 10.96 ms\n",
      "Iteration 20/100, ave batch time 10.30 ms\n",
      "Iteration 30/100, ave batch time 10.15 ms\n",
      "Iteration 40/100, ave batch time 10.03 ms\n",
      "Iteration 50/100, ave batch time 10.10 ms\n",
      "Iteration 60/100, ave batch time 10.09 ms\n",
      "Iteration 70/100, ave batch time 10.05 ms\n",
      "Iteration 80/100, ave batch time 10.04 ms\n",
      "Iteration 90/100, ave batch time 10.01 ms\n",
      "Iteration 100/100, ave batch time 9.97 ms\n",
      "Input shape: torch.Size([1, 3, 384, 640])\n",
      "Average batch time: 9.97 ms\n"
     ]
    }
   ],
   "source": [
    "import copy\n",
    "model_half = copy.deepcopy(load_model).half()\n",
    "benchmark(model_half, dtype='fp16')"
   ]
  },
  {
   "cell_type": "code",
   "execution_count": 46,
   "id": "1860e05f-f0aa-45fc-acca-72ffa73c4c34",
   "metadata": {},
   "outputs": [
    {
     "name": "stdout",
     "output_type": "stream",
     "text": [
      "Warm up ...\n",
      "Start timing ...\n",
      "Iteration 10/100, ave batch time 15.64 ms\n",
      "Iteration 20/100, ave batch time 15.95 ms\n",
      "Iteration 30/100, ave batch time 15.88 ms\n",
      "Iteration 40/100, ave batch time 15.84 ms\n",
      "Iteration 50/100, ave batch time 15.77 ms\n",
      "Iteration 60/100, ave batch time 15.79 ms\n",
      "Iteration 70/100, ave batch time 15.78 ms\n",
      "Iteration 80/100, ave batch time 15.79 ms\n",
      "Iteration 90/100, ave batch time 15.79 ms\n",
      "Iteration 100/100, ave batch time 15.78 ms\n",
      "Input shape: torch.Size([1, 3, 384, 640])\n",
      "Average batch time: 15.78 ms\n"
     ]
    }
   ],
   "source": [
    "benchmark(load_model)"
   ]
  },
  {
   "cell_type": "code",
   "execution_count": 51,
   "id": "9749a346-fe58-4a0f-a354-5dd05007502d",
   "metadata": {},
   "outputs": [
    {
     "name": "stdout",
     "output_type": "stream",
     "text": [
      "Warm up ...\n",
      "Start timing ...\n",
      "Iteration 10/100, ave batch time 5.13 ms\n",
      "Iteration 20/100, ave batch time 5.12 ms\n",
      "Iteration 30/100, ave batch time 5.10 ms\n",
      "Iteration 40/100, ave batch time 5.09 ms\n",
      "Iteration 50/100, ave batch time 5.11 ms\n",
      "Iteration 60/100, ave batch time 5.11 ms\n",
      "Iteration 70/100, ave batch time 5.12 ms\n",
      "Iteration 80/100, ave batch time 5.08 ms\n",
      "Iteration 90/100, ave batch time 5.02 ms\n",
      "Iteration 100/100, ave batch time 5.00 ms\n",
      "Input shape: torch.Size([1, 3, 384, 640])\n",
      "Average batch time: 5.00 ms\n"
     ]
    }
   ],
   "source": [
    "benchmark(trt_model_half)"
   ]
  },
  {
   "cell_type": "code",
   "execution_count": 54,
   "id": "307ebb1b-617a-4e73-8eaf-97bfe55c12ae",
   "metadata": {},
   "outputs": [
    {
     "name": "stdout",
     "output_type": "stream",
     "text": [
      "Warm up ...\n",
      "Start timing ...\n",
      "Iteration 10/100, ave batch time 14.61 ms\n",
      "Iteration 20/100, ave batch time 14.90 ms\n",
      "Iteration 30/100, ave batch time 14.90 ms\n",
      "Iteration 40/100, ave batch time 14.92 ms\n",
      "Iteration 50/100, ave batch time 14.86 ms\n",
      "Iteration 60/100, ave batch time 14.90 ms\n",
      "Iteration 70/100, ave batch time 14.86 ms\n",
      "Iteration 80/100, ave batch time 14.86 ms\n",
      "Iteration 90/100, ave batch time 14.88 ms\n",
      "Iteration 100/100, ave batch time 14.91 ms\n",
      "Input shape: torch.Size([1, 3, 384, 640])\n",
      "Average batch time: 14.91 ms\n"
     ]
    }
   ],
   "source": [
    "benchmark(trt_model)"
   ]
  }
 ],
 "metadata": {
  "kernelspec": {
   "display_name": "Python 3 (ipykernel)",
   "language": "python",
   "name": "python3"
  },
  "language_info": {
   "codemirror_mode": {
    "name": "ipython",
    "version": 3
   },
   "file_extension": ".py",
   "mimetype": "text/x-python",
   "name": "python",
   "nbconvert_exporter": "python",
   "pygments_lexer": "ipython3",
   "version": "3.8.10"
  }
 },
 "nbformat": 4,
 "nbformat_minor": 5
}
