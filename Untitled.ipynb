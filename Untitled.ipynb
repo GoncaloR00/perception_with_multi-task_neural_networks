{
 "cells": [
  {
   "cell_type": "code",
   "execution_count": 2,
   "id": "8f5056ce-76a1-4d9d-ad57-014f3b1eb19c",
   "metadata": {},
   "outputs": [],
   "source": [
    "import torch_tensorrt\n",
    "import torch\n",
    "import pickle"
   ]
  },
  {
   "cell_type": "code",
   "execution_count": 3,
   "id": "77d709f8-d2a5-4f3c-bc83-eabb87a03834",
   "metadata": {},
   "outputs": [],
   "source": [
    "model_path = \"./models/yolov5s.torchscript\""
   ]
  },
  {
   "cell_type": "code",
   "execution_count": 4,
   "id": "dcc62541-b6f2-46a4-bd11-62e9fb11402b",
   "metadata": {},
   "outputs": [],
   "source": [
    "model = torch.jit.load(model_path).to('cuda')"
   ]
  },
  {
   "cell_type": "code",
   "execution_count": 5,
   "id": "b69db606-e5f3-47c1-8a4a-a03effda4cb6",
   "metadata": {},
   "outputs": [
    {
     "name": "stderr",
     "output_type": "stream",
     "text": [
      "WARNING: [Torch-TensorRT] - Truncating graph input type from at::kLong to at::kInt\n",
      "WARNING: [Torch-TensorRT] - Truncating graph input type from at::kLong to at::kInt\n",
      "WARNING: [Torch-TensorRT] - Truncating graph input type from at::kLong to at::kInt\n",
      "WARNING: [Torch-TensorRT] - Truncating graph input type from at::kLong to at::kInt\n",
      "WARNING: [Torch-TensorRT] - Truncating graph input type from at::kLong to at::kInt\n",
      "WARNING: [Torch-TensorRT] - Truncating graph input type from at::kLong to at::kInt\n",
      "WARNING: [Torch-TensorRT] - Truncating graph input type from at::kLong to at::kInt\n",
      "WARNING: [Torch-TensorRT] - Truncating graph input type from at::kLong to at::kInt\n",
      "WARNING: [Torch-TensorRT] - Truncating graph input type from at::kLong to at::kInt\n",
      "WARNING: [Torch-TensorRT] - Dilation not used in Max pooling converter\n",
      "WARNING: [Torch-TensorRT] - Dilation not used in Max pooling converter\n",
      "WARNING: [Torch-TensorRT] - Dilation not used in Max pooling converter\n",
      "ERROR: [Torch-TensorRT TorchScript Conversion Context] - 2: [virtualMemoryBuffer.cpp::resizePhysical::145] Error Code 2: OutOfMemory (no further information)\n",
      "ERROR: [Torch-TensorRT TorchScript Conversion Context] - 2: [virtualMemoryBuffer.cpp::resizePhysical::145] Error Code 2: OutOfMemory (no further information)\n",
      "WARNING: [Torch-TensorRT TorchScript Conversion Context] - Requested amount of GPU memory (8589934592 bytes) could not be allocated. There may not be enough free memory for allocation to succeed.\n",
      "WARNING: [Torch-TensorRT TorchScript Conversion Context] - Skipping tactic 3 due to insufficient memory on requested size of 8589934592 detected for tactic 0x0000000000000004.\n",
      "Try decreasing the workspace size with IBuilderConfig::setMemoryPoolLimit().\n",
      "ERROR: [Torch-TensorRT TorchScript Conversion Context] - 2: [virtualMemoryBuffer.cpp::resizePhysical::145] Error Code 2: OutOfMemory (no further information)\n",
      "ERROR: [Torch-TensorRT TorchScript Conversion Context] - 2: [virtualMemoryBuffer.cpp::resizePhysical::145] Error Code 2: OutOfMemory (no further information)\n",
      "WARNING: [Torch-TensorRT TorchScript Conversion Context] - Requested amount of GPU memory (8589934592 bytes) could not be allocated. There may not be enough free memory for allocation to succeed.\n",
      "WARNING: [Torch-TensorRT TorchScript Conversion Context] - Skipping tactic 8 due to insufficient memory on requested size of 8589934592 detected for tactic 0x000000000000003c.\n",
      "Try decreasing the workspace size with IBuilderConfig::setMemoryPoolLimit().\n",
      "ERROR: [Torch-TensorRT TorchScript Conversion Context] - 2: [virtualMemoryBuffer.cpp::resizePhysical::145] Error Code 2: OutOfMemory (no further information)\n",
      "ERROR: [Torch-TensorRT TorchScript Conversion Context] - 2: [virtualMemoryBuffer.cpp::resizePhysical::145] Error Code 2: OutOfMemory (no further information)\n",
      "WARNING: [Torch-TensorRT TorchScript Conversion Context] - Requested amount of GPU memory (8589934592 bytes) could not be allocated. There may not be enough free memory for allocation to succeed.\n",
      "WARNING: [Torch-TensorRT TorchScript Conversion Context] - Skipping tactic 13 due to insufficient memory on requested size of 8589934592 detected for tactic 0x0000000000000074.\n",
      "Try decreasing the workspace size with IBuilderConfig::setMemoryPoolLimit().\n",
      "ERROR: [Torch-TensorRT TorchScript Conversion Context] - 2: [virtualMemoryBuffer.cpp::resizePhysical::145] Error Code 2: OutOfMemory (no further information)\n",
      "ERROR: [Torch-TensorRT TorchScript Conversion Context] - 2: [virtualMemoryBuffer.cpp::resizePhysical::145] Error Code 2: OutOfMemory (no further information)\n",
      "WARNING: [Torch-TensorRT TorchScript Conversion Context] - Requested amount of GPU memory (8589934592 bytes) could not be allocated. There may not be enough free memory for allocation to succeed.\n",
      "WARNING: [Torch-TensorRT TorchScript Conversion Context] - Skipping tactic 3 due to insufficient memory on requested size of 8589934592 detected for tactic 0x0000000000000004.\n",
      "Try decreasing the workspace size with IBuilderConfig::setMemoryPoolLimit().\n",
      "ERROR: [Torch-TensorRT TorchScript Conversion Context] - 2: [virtualMemoryBuffer.cpp::resizePhysical::145] Error Code 2: OutOfMemory (no further information)\n",
      "ERROR: [Torch-TensorRT TorchScript Conversion Context] - 2: [virtualMemoryBuffer.cpp::resizePhysical::145] Error Code 2: OutOfMemory (no further information)\n",
      "WARNING: [Torch-TensorRT TorchScript Conversion Context] - Requested amount of GPU memory (8589934592 bytes) could not be allocated. There may not be enough free memory for allocation to succeed.\n",
      "WARNING: [Torch-TensorRT TorchScript Conversion Context] - Skipping tactic 7 due to insufficient memory on requested size of 8589934592 detected for tactic 0x000000000000003c.\n",
      "Try decreasing the workspace size with IBuilderConfig::setMemoryPoolLimit().\n",
      "ERROR: [Torch-TensorRT TorchScript Conversion Context] - 2: [virtualMemoryBuffer.cpp::resizePhysical::145] Error Code 2: OutOfMemory (no further information)\n",
      "ERROR: [Torch-TensorRT TorchScript Conversion Context] - 2: [virtualMemoryBuffer.cpp::resizePhysical::145] Error Code 2: OutOfMemory (no further information)\n",
      "WARNING: [Torch-TensorRT TorchScript Conversion Context] - Requested amount of GPU memory (8589934592 bytes) could not be allocated. There may not be enough free memory for allocation to succeed.\n",
      "WARNING: [Torch-TensorRT TorchScript Conversion Context] - Skipping tactic 3 due to insufficient memory on requested size of 8589934592 detected for tactic 0x0000000000000004.\n",
      "Try decreasing the workspace size with IBuilderConfig::setMemoryPoolLimit().\n",
      "ERROR: [Torch-TensorRT TorchScript Conversion Context] - 2: [virtualMemoryBuffer.cpp::resizePhysical::145] Error Code 2: OutOfMemory (no further information)\n",
      "ERROR: [Torch-TensorRT TorchScript Conversion Context] - 2: [virtualMemoryBuffer.cpp::resizePhysical::145] Error Code 2: OutOfMemory (no further information)\n",
      "WARNING: [Torch-TensorRT TorchScript Conversion Context] - Requested amount of GPU memory (8589934592 bytes) could not be allocated. There may not be enough free memory for allocation to succeed.\n",
      "WARNING: [Torch-TensorRT TorchScript Conversion Context] - Skipping tactic 8 due to insufficient memory on requested size of 8589934592 detected for tactic 0x000000000000003c.\n",
      "Try decreasing the workspace size with IBuilderConfig::setMemoryPoolLimit().\n",
      "ERROR: [Torch-TensorRT TorchScript Conversion Context] - 2: [virtualMemoryBuffer.cpp::resizePhysical::145] Error Code 2: OutOfMemory (no further information)\n",
      "ERROR: [Torch-TensorRT TorchScript Conversion Context] - 2: [virtualMemoryBuffer.cpp::resizePhysical::145] Error Code 2: OutOfMemory (no further information)\n",
      "WARNING: [Torch-TensorRT TorchScript Conversion Context] - Requested amount of GPU memory (8589934592 bytes) could not be allocated. There may not be enough free memory for allocation to succeed.\n",
      "WARNING: [Torch-TensorRT TorchScript Conversion Context] - Skipping tactic 13 due to insufficient memory on requested size of 8589934592 detected for tactic 0x0000000000000074.\n",
      "Try decreasing the workspace size with IBuilderConfig::setMemoryPoolLimit().\n",
      "ERROR: [Torch-TensorRT TorchScript Conversion Context] - 2: [virtualMemoryBuffer.cpp::resizePhysical::145] Error Code 2: OutOfMemory (no further information)\n",
      "ERROR: [Torch-TensorRT TorchScript Conversion Context] - 2: [virtualMemoryBuffer.cpp::resizePhysical::145] Error Code 2: OutOfMemory (no further information)\n",
      "WARNING: [Torch-TensorRT TorchScript Conversion Context] - Requested amount of GPU memory (8589934592 bytes) could not be allocated. There may not be enough free memory for allocation to succeed.\n",
      "WARNING: [Torch-TensorRT TorchScript Conversion Context] - Skipping tactic 3 due to insufficient memory on requested size of 8589934592 detected for tactic 0x0000000000000004.\n",
      "Try decreasing the workspace size with IBuilderConfig::setMemoryPoolLimit().\n",
      "ERROR: [Torch-TensorRT TorchScript Conversion Context] - 2: [virtualMemoryBuffer.cpp::resizePhysical::145] Error Code 2: OutOfMemory (no further information)\n",
      "ERROR: [Torch-TensorRT TorchScript Conversion Context] - 2: [virtualMemoryBuffer.cpp::resizePhysical::145] Error Code 2: OutOfMemory (no further information)\n",
      "WARNING: [Torch-TensorRT TorchScript Conversion Context] - Requested amount of GPU memory (8589934592 bytes) could not be allocated. There may not be enough free memory for allocation to succeed.\n",
      "WARNING: [Torch-TensorRT TorchScript Conversion Context] - Skipping tactic 7 due to insufficient memory on requested size of 8589934592 detected for tactic 0x000000000000003c.\n",
      "Try decreasing the workspace size with IBuilderConfig::setMemoryPoolLimit().\n",
      "ERROR: [Torch-TensorRT TorchScript Conversion Context] - 2: [virtualMemoryBuffer.cpp::resizePhysical::145] Error Code 2: OutOfMemory (no further information)\n",
      "ERROR: [Torch-TensorRT TorchScript Conversion Context] - 2: [virtualMemoryBuffer.cpp::resizePhysical::145] Error Code 2: OutOfMemory (no further information)\n",
      "WARNING: [Torch-TensorRT TorchScript Conversion Context] - Requested amount of GPU memory (8589934592 bytes) could not be allocated. There may not be enough free memory for allocation to succeed.\n",
      "WARNING: [Torch-TensorRT TorchScript Conversion Context] - Skipping tactic 3 due to insufficient memory on requested size of 8589934592 detected for tactic 0x0000000000000004.\n",
      "Try decreasing the workspace size with IBuilderConfig::setMemoryPoolLimit().\n",
      "ERROR: [Torch-TensorRT TorchScript Conversion Context] - 2: [virtualMemoryBuffer.cpp::resizePhysical::145] Error Code 2: OutOfMemory (no further information)\n",
      "ERROR: [Torch-TensorRT TorchScript Conversion Context] - 2: [virtualMemoryBuffer.cpp::resizePhysical::145] Error Code 2: OutOfMemory (no further information)\n",
      "WARNING: [Torch-TensorRT TorchScript Conversion Context] - Requested amount of GPU memory (8589934592 bytes) could not be allocated. There may not be enough free memory for allocation to succeed.\n",
      "WARNING: [Torch-TensorRT TorchScript Conversion Context] - Skipping tactic 8 due to insufficient memory on requested size of 8589934592 detected for tactic 0x000000000000003c.\n",
      "Try decreasing the workspace size with IBuilderConfig::setMemoryPoolLimit().\n",
      "ERROR: [Torch-TensorRT TorchScript Conversion Context] - 2: [virtualMemoryBuffer.cpp::resizePhysical::145] Error Code 2: OutOfMemory (no further information)\n",
      "ERROR: [Torch-TensorRT TorchScript Conversion Context] - 2: [virtualMemoryBuffer.cpp::resizePhysical::145] Error Code 2: OutOfMemory (no further information)\n",
      "WARNING: [Torch-TensorRT TorchScript Conversion Context] - Requested amount of GPU memory (8589934592 bytes) could not be allocated. There may not be enough free memory for allocation to succeed.\n",
      "WARNING: [Torch-TensorRT TorchScript Conversion Context] - Skipping tactic 13 due to insufficient memory on requested size of 8589934592 detected for tactic 0x0000000000000074.\n",
      "Try decreasing the workspace size with IBuilderConfig::setMemoryPoolLimit().\n",
      "ERROR: [Torch-TensorRT TorchScript Conversion Context] - 2: [virtualMemoryBuffer.cpp::resizePhysical::145] Error Code 2: OutOfMemory (no further information)\n",
      "ERROR: [Torch-TensorRT TorchScript Conversion Context] - 2: [virtualMemoryBuffer.cpp::resizePhysical::145] Error Code 2: OutOfMemory (no further information)\n",
      "WARNING: [Torch-TensorRT TorchScript Conversion Context] - Requested amount of GPU memory (8589934592 bytes) could not be allocated. There may not be enough free memory for allocation to succeed.\n",
      "WARNING: [Torch-TensorRT TorchScript Conversion Context] - Skipping tactic 3 due to insufficient memory on requested size of 8589934592 detected for tactic 0x0000000000000004.\n",
      "Try decreasing the workspace size with IBuilderConfig::setMemoryPoolLimit().\n",
      "ERROR: [Torch-TensorRT TorchScript Conversion Context] - 2: [virtualMemoryBuffer.cpp::resizePhysical::145] Error Code 2: OutOfMemory (no further information)\n",
      "ERROR: [Torch-TensorRT TorchScript Conversion Context] - 2: [virtualMemoryBuffer.cpp::resizePhysical::145] Error Code 2: OutOfMemory (no further information)\n",
      "WARNING: [Torch-TensorRT TorchScript Conversion Context] - Requested amount of GPU memory (8589934592 bytes) could not be allocated. There may not be enough free memory for allocation to succeed.\n",
      "WARNING: [Torch-TensorRT TorchScript Conversion Context] - Skipping tactic 7 due to insufficient memory on requested size of 8589934592 detected for tactic 0x000000000000003c.\n",
      "Try decreasing the workspace size with IBuilderConfig::setMemoryPoolLimit().\n",
      "ERROR: [Torch-TensorRT TorchScript Conversion Context] - 2: [virtualMemoryBuffer.cpp::resizePhysical::145] Error Code 2: OutOfMemory (no further information)\n",
      "ERROR: [Torch-TensorRT TorchScript Conversion Context] - 2: [virtualMemoryBuffer.cpp::resizePhysical::145] Error Code 2: OutOfMemory (no further information)\n",
      "WARNING: [Torch-TensorRT TorchScript Conversion Context] - Requested amount of GPU memory (8589934592 bytes) could not be allocated. There may not be enough free memory for allocation to succeed.\n",
      "WARNING: [Torch-TensorRT TorchScript Conversion Context] - Skipping tactic 3 due to insufficient memory on requested size of 8589934592 detected for tactic 0x0000000000000004.\n",
      "Try decreasing the workspace size with IBuilderConfig::setMemoryPoolLimit().\n",
      "ERROR: [Torch-TensorRT TorchScript Conversion Context] - 2: [virtualMemoryBuffer.cpp::resizePhysical::145] Error Code 2: OutOfMemory (no further information)\n",
      "ERROR: [Torch-TensorRT TorchScript Conversion Context] - 2: [virtualMemoryBuffer.cpp::resizePhysical::145] Error Code 2: OutOfMemory (no further information)\n",
      "WARNING: [Torch-TensorRT TorchScript Conversion Context] - Requested amount of GPU memory (8589934592 bytes) could not be allocated. There may not be enough free memory for allocation to succeed.\n",
      "WARNING: [Torch-TensorRT TorchScript Conversion Context] - Skipping tactic 8 due to insufficient memory on requested size of 8589934592 detected for tactic 0x000000000000003c.\n",
      "Try decreasing the workspace size with IBuilderConfig::setMemoryPoolLimit().\n",
      "ERROR: [Torch-TensorRT TorchScript Conversion Context] - 2: [virtualMemoryBuffer.cpp::resizePhysical::145] Error Code 2: OutOfMemory (no further information)\n",
      "ERROR: [Torch-TensorRT TorchScript Conversion Context] - 2: [virtualMemoryBuffer.cpp::resizePhysical::145] Error Code 2: OutOfMemory (no further information)\n",
      "WARNING: [Torch-TensorRT TorchScript Conversion Context] - Requested amount of GPU memory (8589934592 bytes) could not be allocated. There may not be enough free memory for allocation to succeed.\n",
      "WARNING: [Torch-TensorRT TorchScript Conversion Context] - Skipping tactic 13 due to insufficient memory on requested size of 8589934592 detected for tactic 0x0000000000000074.\n",
      "Try decreasing the workspace size with IBuilderConfig::setMemoryPoolLimit().\n",
      "ERROR: [Torch-TensorRT TorchScript Conversion Context] - 2: [virtualMemoryBuffer.cpp::resizePhysical::145] Error Code 2: OutOfMemory (no further information)\n",
      "ERROR: [Torch-TensorRT TorchScript Conversion Context] - 2: [virtualMemoryBuffer.cpp::resizePhysical::145] Error Code 2: OutOfMemory (no further information)\n",
      "WARNING: [Torch-TensorRT TorchScript Conversion Context] - Requested amount of GPU memory (8589934592 bytes) could not be allocated. There may not be enough free memory for allocation to succeed.\n",
      "WARNING: [Torch-TensorRT TorchScript Conversion Context] - Skipping tactic 3 due to insufficient memory on requested size of 8589934592 detected for tactic 0x0000000000000004.\n",
      "Try decreasing the workspace size with IBuilderConfig::setMemoryPoolLimit().\n",
      "ERROR: [Torch-TensorRT TorchScript Conversion Context] - 2: [virtualMemoryBuffer.cpp::resizePhysical::145] Error Code 2: OutOfMemory (no further information)\n",
      "ERROR: [Torch-TensorRT TorchScript Conversion Context] - 2: [virtualMemoryBuffer.cpp::resizePhysical::145] Error Code 2: OutOfMemory (no further information)\n",
      "WARNING: [Torch-TensorRT TorchScript Conversion Context] - Requested amount of GPU memory (8589934592 bytes) could not be allocated. There may not be enough free memory for allocation to succeed.\n",
      "WARNING: [Torch-TensorRT TorchScript Conversion Context] - Skipping tactic 7 due to insufficient memory on requested size of 8589934592 detected for tactic 0x000000000000003c.\n",
      "Try decreasing the workspace size with IBuilderConfig::setMemoryPoolLimit().\n",
      "WARNING: [Torch-TensorRT TorchScript Conversion Context] - TensorRT encountered issues when converting weights between types and that could affect accuracy.\n",
      "WARNING: [Torch-TensorRT TorchScript Conversion Context] - If this is not the desired behavior, please modify the weights or retrain with regularization to adjust the magnitude of the weights.\n",
      "WARNING: [Torch-TensorRT TorchScript Conversion Context] - Check verbose logs for the list of affected weights.\n",
      "WARNING: [Torch-TensorRT TorchScript Conversion Context] - - 50 weights are affected by this issue: Detected subnormal FP16 values.\n",
      "WARNING: [Torch-TensorRT TorchScript Conversion Context] - - 2 weights are affected by this issue: Detected values less than smallest positive FP16 subnormal value and converted them to the FP16 minimum subnormalized value.\n",
      "WARNING: [Torch-TensorRT] - Trying to record the value 0 with the ITensor input_0 again.\n",
      "WARNING: [Torch-TensorRT] - Trying to record the value 5 with the ITensor input_1 again.\n",
      "WARNING: [Torch-TensorRT] - Truncating weight (constant in the graph) from Int64 to Int32\n",
      "WARNING: [Torch-TensorRT] - Truncating weight (constant in the graph) from Int64 to Int32\n",
      "WARNING: [Torch-TensorRT] - Truncating weight (constant in the graph) from Int64 to Int32\n",
      "WARNING: [Torch-TensorRT] - Trying to record the value 0 with the ITensor input_0 again.\n",
      "WARNING: [Torch-TensorRT] - Trying to record the value 5 with the ITensor input_1 again.\n",
      "WARNING: [Torch-TensorRT] - Truncating weight (constant in the graph) from Int64 to Int32\n",
      "WARNING: [Torch-TensorRT] - Truncating weight (constant in the graph) from Int64 to Int32\n",
      "WARNING: [Torch-TensorRT] - Truncating weight (constant in the graph) from Int64 to Int32\n",
      "WARNING: [Torch-TensorRT] - Trying to record the value 0 with the ITensor input_0 again.\n",
      "WARNING: [Torch-TensorRT] - Trying to record the value 5 with the ITensor input_1 again.\n",
      "WARNING: [Torch-TensorRT] - Truncating weight (constant in the graph) from Int64 to Int32\n",
      "WARNING: [Torch-TensorRT] - Truncating weight (constant in the graph) from Int64 to Int32\n",
      "WARNING: [Torch-TensorRT] - Truncating weight (constant in the graph) from Int64 to Int32\n"
     ]
    }
   ],
   "source": [
    "trt_model = torch_tensorrt.compile(model,\n",
    "                            inputs = [torch_tensorrt.Input((1, 3, 384, 640))],\n",
    "                            enabled_precisions = {torch.float16}, truncate_long_and_double = True)"
   ]
  },
  {
   "cell_type": "code",
   "execution_count": 6,
   "id": "dfcf94a6-a4db-4fd3-af3e-c574db18adec",
   "metadata": {},
   "outputs": [],
   "source": [
    "torch.jit.save(trt_model, \"teste2.trt\")"
   ]
  },
  {
   "cell_type": "code",
   "execution_count": 12,
   "id": "877cc0f0-1420-48c4-865c-ad5457f115cc",
   "metadata": {},
   "outputs": [
    {
     "name": "stdout",
     "output_type": "stream",
     "text": [
      "[05/31/2023-23:30:23] [TRT] [I] The logger passed into createInferRuntime differs from one already provided for an existing builder, runtime, or refitter. Uses of the global logger, returned by nvinfer1::getLogger(), will return the existing value.\n",
      "\n",
      "[05/31/2023-23:30:23] [TRT] [I] Loaded engine size: 21 MiB\n",
      "[05/31/2023-23:30:23] [TRT] [E] 1: [stdArchiveReader.cpp::StdArchiveReader::32] Error Code 1: Serialization (Serialization assertion magicTagRead == kMAGIC_TAG failed.Magic tag does not match)\n",
      "[05/31/2023-23:30:23] [TRT] [E] 4: [runtime.cpp::deserializeCudaEngine::66] Error Code 4: Internal Error (Engine deserialization failed.)\n"
     ]
    }
   ],
   "source": [
    "import tensorrt as trt\n",
    "logger = trt.Logger(trt.Logger.INFO)\n",
    "with open(\"./teste2.trt\", 'rb') as f, trt.Runtime(logger) as runtime:\n",
    "    model = runtime.deserialize_cuda_engine(f.read())"
   ]
  },
  {
   "cell_type": "code",
   "execution_count": null,
   "id": "b519310d-5e68-4a16-be3a-acc5b98037f5",
   "metadata": {},
   "outputs": [],
   "source": []
  }
 ],
 "metadata": {
  "kernelspec": {
   "display_name": "Python 3 (ipykernel)",
   "language": "python",
   "name": "python3"
  },
  "language_info": {
   "codemirror_mode": {
    "name": "ipython",
    "version": 3
   },
   "file_extension": ".py",
   "mimetype": "text/x-python",
   "name": "python",
   "nbconvert_exporter": "python",
   "pygments_lexer": "ipython3",
   "version": "3.8.10"
  }
 },
 "nbformat": 4,
 "nbformat_minor": 5
}
