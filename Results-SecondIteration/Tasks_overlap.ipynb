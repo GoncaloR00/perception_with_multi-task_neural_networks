{
 "cells": [
  {
   "cell_type": "code",
   "execution_count": 16,
   "id": "03e8fd4f-ee23-4d0f-b435-d2dbf698302d",
   "metadata": {},
   "outputs": [
    {
     "name": "stdout",
     "output_type": "stream",
     "text": [
      "The tasks of MultiModel-A overlap 52.560706401766% of the time\n",
      "The tasks of MultiModel-B overlap 37.003311258278146% of the time\n"
     ]
    }
   ],
   "source": [
    "import pandas as pd\n",
    "import math\n",
    "import numpy as np\n",
    "\n",
    "models = ['MultiModel-A','MultiModel-B']\n",
    "for model in models:\n",
    "    table_o = pd.read_excel(model+'.xlsx', sheet_name='Raw', header = [0,1], index_col = [0,1])\n",
    "    overlaps=[]\n",
    "\n",
    "    for image in list(table_o.index.levels[0]):\n",
    "        val_i = []\n",
    "        val_f = []\n",
    "        for i1, i2 in zip(['Object detection', 'Drivable area', 'Lane marking'], ['car', 'Drivable', 'Lane']):\n",
    "            try:\n",
    "                val_i.append(table_o[(i1, 'Ti')][(image, i2)])\n",
    "            except:\n",
    "                val_i.append(math.nan)\n",
    "            try:\n",
    "                val_f.append(table_o[(i1, 'Tf')][(image, i2)])\n",
    "            except:\n",
    "                val_f.append(math.nan)\n",
    "        if (math.nan in val_i) or (math.nan in val_f):\n",
    "            pass\n",
    "        else:\n",
    "            list_0 = [*sorted(zip(val_i, val_f))]\n",
    "            i=0\n",
    "            overlaps.append(list_0[i][1]-list_0[i+1][0]>0)\n",
    "            i=1\n",
    "            overlaps.append(list_0[i][1]-list_0[i+1][0]>0)\n",
    "    print(f\"The tasks of {model} overlap {(sum(overlaps)/len(overlaps))*100}% of the time\")"
   ]
  }
 ],
 "metadata": {
  "kernelspec": {
   "display_name": "Python 3 (ipykernel)",
   "language": "python",
   "name": "python3"
  },
  "language_info": {
   "codemirror_mode": {
    "name": "ipython",
    "version": 3
   },
   "file_extension": ".py",
   "mimetype": "text/x-python",
   "name": "python",
   "nbconvert_exporter": "python",
   "pygments_lexer": "ipython3",
   "version": "3.8.10"
  }
 },
 "nbformat": 4,
 "nbformat_minor": 5
}
