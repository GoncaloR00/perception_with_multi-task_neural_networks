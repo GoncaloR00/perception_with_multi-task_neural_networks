{
 "cells": [
  {
   "cell_type": "code",
   "execution_count": 70,
   "id": "2b828e52-ca24-4cf4-97dc-c7c5f55fb0de",
   "metadata": {},
   "outputs": [],
   "source": []
  },
  {
   "cell_type": "code",
   "execution_count": 1,
   "id": "8b4bbb07-3812-48f4-af08-1a562616610f",
   "metadata": {},
   "outputs": [],
   "source": [
    "import pandas as pd\n",
    "import math\n",
    "import numpy as np\n",
    "\n",
    "models = ['MultiModel-B-simpler']\n",
    "\n",
    "for model in models:\n",
    "    table_o = pd.read_excel(model+'.xlsx', sheet_name='Raw', header = [0,1], index_col = [0,1])\n",
    "    times=[]\n",
    "\n",
    "    for image in list(table_o.index.levels[0]):\n",
    "        val_i = []\n",
    "        val_f = []\n",
    "        for i1, i2 in zip(['Object detection', 'Drivable area', 'Lane marking'], ['car', 'Drivable', 'Lane']):\n",
    "            try:\n",
    "                val_i.append(table_o[(i1, 'Ti')][(image, i2)])\n",
    "            except:\n",
    "                val_i.append(math.nan)\n",
    "            try:\n",
    "                val_f.append(table_o[(i1, 'Tf')][(image, i2)])\n",
    "            except:\n",
    "                val_f.append(math.nan)\n",
    "        if (math.nan in val_i) or (math.nan in val_f):\n",
    "            pass\n",
    "        else:\n",
    "            times.append(1/(max(val_f) - min(val_i)))\n",
    "    new_fps = np.array(times).mean()\n",
    "    table_o = pd.read_excel(model+'.xlsx', sheet_name='Results', header = [0,1], index_col = [0])\n",
    "    for i1, i2 in zip(['Object detection', 'Drivable area', 'Lane marking'], ['car', 'Drivable', 'Lane']):\n",
    "        table_o[(i1, 'FPS')][i2] = new_fps\n",
    "    with pd.ExcelWriter(model +'-Comb' + '.xlsx') as writer:\n",
    "        table_o.to_excel(writer, sheet_name='Results')\n",
    "    "
   ]
  },
  {
   "cell_type": "code",
   "execution_count": 2,
   "id": "32ee25d9-a1e7-42c4-bf1a-43983aa519ee",
   "metadata": {},
   "outputs": [
    {
     "data": {
      "text/html": [
       "<div>\n",
       "<style scoped>\n",
       "    .dataframe tbody tr th:only-of-type {\n",
       "        vertical-align: middle;\n",
       "    }\n",
       "\n",
       "    .dataframe tbody tr th {\n",
       "        vertical-align: top;\n",
       "    }\n",
       "\n",
       "    .dataframe thead tr th {\n",
       "        text-align: left;\n",
       "    }\n",
       "</style>\n",
       "<table border=\"1\" class=\"dataframe\">\n",
       "  <thead>\n",
       "    <tr>\n",
       "      <th></th>\n",
       "      <th colspan=\"3\" halign=\"left\">Object detection</th>\n",
       "      <th colspan=\"2\" halign=\"left\">Drivable area</th>\n",
       "      <th colspan=\"2\" halign=\"left\">Lane marking</th>\n",
       "    </tr>\n",
       "    <tr>\n",
       "      <th></th>\n",
       "      <th>AP@50</th>\n",
       "      <th>AP@75</th>\n",
       "      <th>FPS</th>\n",
       "      <th>IoU</th>\n",
       "      <th>FPS</th>\n",
       "      <th>IoU</th>\n",
       "      <th>FPS</th>\n",
       "    </tr>\n",
       "  </thead>\n",
       "  <tbody>\n",
       "    <tr>\n",
       "      <th>car</th>\n",
       "      <td>0.717898</td>\n",
       "      <td>0.559078</td>\n",
       "      <td>97.926569</td>\n",
       "      <td>NaN</td>\n",
       "      <td>NaN</td>\n",
       "      <td>NaN</td>\n",
       "      <td>NaN</td>\n",
       "    </tr>\n",
       "    <tr>\n",
       "      <th>Lane</th>\n",
       "      <td>NaN</td>\n",
       "      <td>NaN</td>\n",
       "      <td>NaN</td>\n",
       "      <td>NaN</td>\n",
       "      <td>NaN</td>\n",
       "      <td>0.299137</td>\n",
       "      <td>97.926569</td>\n",
       "    </tr>\n",
       "    <tr>\n",
       "      <th>Drivable</th>\n",
       "      <td>NaN</td>\n",
       "      <td>NaN</td>\n",
       "      <td>NaN</td>\n",
       "      <td>0.794014</td>\n",
       "      <td>97.926569</td>\n",
       "      <td>NaN</td>\n",
       "      <td>NaN</td>\n",
       "    </tr>\n",
       "  </tbody>\n",
       "</table>\n",
       "</div>"
      ],
      "text/plain": [
       "         Object detection                      Drivable area             \\\n",
       "                    AP@50     AP@75        FPS           IoU        FPS   \n",
       "car              0.717898  0.559078  97.926569           NaN        NaN   \n",
       "Lane                  NaN       NaN        NaN           NaN        NaN   \n",
       "Drivable              NaN       NaN        NaN      0.794014  97.926569   \n",
       "\n",
       "         Lane marking             \n",
       "                  IoU        FPS  \n",
       "car               NaN        NaN  \n",
       "Lane         0.299137  97.926569  \n",
       "Drivable          NaN        NaN  "
      ]
     },
     "execution_count": 2,
     "metadata": {},
     "output_type": "execute_result"
    }
   ],
   "source": [
    "table_o"
   ]
  },
  {
   "cell_type": "code",
   "execution_count": 76,
   "id": "0968bf94-cfac-43a6-b2f4-ff60a513913b",
   "metadata": {},
   "outputs": [
    {
     "data": {
      "text/plain": [
       "nan"
      ]
     },
     "execution_count": 76,
     "metadata": {},
     "output_type": "execute_result"
    }
   ],
   "source": [
    "table_o[('Object detection', 'Ti')][('b1c81faa-3df17267.jpg', 'Drivable')]"
   ]
  },
  {
   "cell_type": "code",
   "execution_count": 82,
   "id": "b9653e98-6dcf-477c-a533-a11f39461c1b",
   "metadata": {},
   "outputs": [],
   "source": [
    "import math\n",
    "import numpy as np\n",
    "\n",
    "times=[]\n",
    "\n",
    "for image in list(table_o.index.levels[0]):\n",
    "    val_i = []\n",
    "    val_f = []\n",
    "    for i1, i2 in zip(['Object detection', 'Drivable area', 'Lane marking'], ['car', 'Drivable', 'Lane']):\n",
    "        try:\n",
    "            val_i.append(table_o[(i1, 'Ti')][(image, i2)])\n",
    "        except:\n",
    "            val_i.append(math.nan)\n",
    "        try:\n",
    "            val_f.append(table_o[(i1, 'Tf')][(image, i2)])\n",
    "        except:\n",
    "            val_f.append(math.nan)\n",
    "    if (math.nan in val_i) or (math.nan in val_f):\n",
    "        pass\n",
    "    else:\n",
    "        times.append(1/(max(val_f) - min(val_i)))\n",
    "        \n",
    "    "
   ]
  },
  {
   "cell_type": "code",
   "execution_count": 83,
   "id": "4ec06207-9bc7-4f32-ad69-ed4bd8456ff3",
   "metadata": {},
   "outputs": [
    {
     "data": {
      "text/plain": [
       "46.98485848629608"
      ]
     },
     "execution_count": 83,
     "metadata": {},
     "output_type": "execute_result"
    }
   ],
   "source": [
    "np.array(times).mean()"
   ]
  },
  {
   "cell_type": "code",
   "execution_count": 32,
   "id": "e1a7c9b6-0e5b-4fe5-9841-050ef349c2f2",
   "metadata": {},
   "outputs": [
    {
     "data": {
      "text/plain": [
       "59.11216968501163"
      ]
     },
     "execution_count": 32,
     "metadata": {},
     "output_type": "execute_result"
    }
   ],
   "source": [
    "1/(max(val_f) - min(val_i))"
   ]
  },
  {
   "cell_type": "code",
   "execution_count": 38,
   "id": "e29e00be-87fb-4ac5-9cd6-7d04fd55df03",
   "metadata": {},
   "outputs": [
    {
     "data": {
      "text/plain": [
       "[59.11216968501163]"
      ]
     },
     "execution_count": 38,
     "metadata": {},
     "output_type": "execute_result"
    }
   ],
   "source": [
    "times"
   ]
  },
  {
   "cell_type": "code",
   "execution_count": 88,
   "id": "a3b2522d-c287-43fc-bfc2-3965764aa866",
   "metadata": {},
   "outputs": [],
   "source": [
    "import pandas as pd\n",
    "table_o = pd.read_excel(models[1]+'.xlsx', sheet_name='Results', header = [0,1], index_col = [0])"
   ]
  },
  {
   "cell_type": "code",
   "execution_count": 96,
   "id": "d2ab6e25-2c74-441f-9b5b-d3214f82165d",
   "metadata": {},
   "outputs": [],
   "source": [
    "table_o[('Object detection', 'FPS')]['car'] = 50"
   ]
  },
  {
   "cell_type": "code",
   "execution_count": 97,
   "id": "10fb7bb3-44fc-43a3-8803-c926d4dd54d0",
   "metadata": {},
   "outputs": [
    {
     "data": {
      "text/html": [
       "<div>\n",
       "<style scoped>\n",
       "    .dataframe tbody tr th:only-of-type {\n",
       "        vertical-align: middle;\n",
       "    }\n",
       "\n",
       "    .dataframe tbody tr th {\n",
       "        vertical-align: top;\n",
       "    }\n",
       "\n",
       "    .dataframe thead tr th {\n",
       "        text-align: left;\n",
       "    }\n",
       "</style>\n",
       "<table border=\"1\" class=\"dataframe\">\n",
       "  <thead>\n",
       "    <tr>\n",
       "      <th></th>\n",
       "      <th colspan=\"3\" halign=\"left\">Object detection</th>\n",
       "      <th colspan=\"2\" halign=\"left\">Drivable area</th>\n",
       "      <th colspan=\"2\" halign=\"left\">Lane marking</th>\n",
       "    </tr>\n",
       "    <tr>\n",
       "      <th></th>\n",
       "      <th>AP@50</th>\n",
       "      <th>AP@75</th>\n",
       "      <th>FPS</th>\n",
       "      <th>IoU</th>\n",
       "      <th>FPS</th>\n",
       "      <th>IoU</th>\n",
       "      <th>FPS</th>\n",
       "    </tr>\n",
       "  </thead>\n",
       "  <tbody>\n",
       "    <tr>\n",
       "      <th>car</th>\n",
       "      <td>0.714119</td>\n",
       "      <td>0.565343</td>\n",
       "      <td>50.0</td>\n",
       "      <td>NaN</td>\n",
       "      <td>NaN</td>\n",
       "      <td>NaN</td>\n",
       "      <td>NaN</td>\n",
       "    </tr>\n",
       "    <tr>\n",
       "      <th>Lane</th>\n",
       "      <td>NaN</td>\n",
       "      <td>NaN</td>\n",
       "      <td>NaN</td>\n",
       "      <td>NaN</td>\n",
       "      <td>NaN</td>\n",
       "      <td>0.299068</td>\n",
       "      <td>184.495292</td>\n",
       "    </tr>\n",
       "    <tr>\n",
       "      <th>Drivable</th>\n",
       "      <td>NaN</td>\n",
       "      <td>NaN</td>\n",
       "      <td>NaN</td>\n",
       "      <td>0.801437</td>\n",
       "      <td>179.291976</td>\n",
       "      <td>NaN</td>\n",
       "      <td>NaN</td>\n",
       "    </tr>\n",
       "  </tbody>\n",
       "</table>\n",
       "</div>"
      ],
      "text/plain": [
       "         Object detection                 Drivable area              \\\n",
       "                    AP@50     AP@75   FPS           IoU         FPS   \n",
       "car              0.714119  0.565343  50.0           NaN         NaN   \n",
       "Lane                  NaN       NaN   NaN           NaN         NaN   \n",
       "Drivable              NaN       NaN   NaN      0.801437  179.291976   \n",
       "\n",
       "         Lane marking              \n",
       "                  IoU         FPS  \n",
       "car               NaN         NaN  \n",
       "Lane         0.299068  184.495292  \n",
       "Drivable          NaN         NaN  "
      ]
     },
     "execution_count": 97,
     "metadata": {},
     "output_type": "execute_result"
    }
   ],
   "source": [
    "table_o"
   ]
  }
 ],
 "metadata": {
  "kernelspec": {
   "display_name": "Python 3 (ipykernel)",
   "language": "python",
   "name": "python3"
  },
  "language_info": {
   "codemirror_mode": {
    "name": "ipython",
    "version": 3
   },
   "file_extension": ".py",
   "mimetype": "text/x-python",
   "name": "python",
   "nbconvert_exporter": "python",
   "pygments_lexer": "ipython3",
   "version": "3.8.10"
  }
 },
 "nbformat": 4,
 "nbformat_minor": 5
}
