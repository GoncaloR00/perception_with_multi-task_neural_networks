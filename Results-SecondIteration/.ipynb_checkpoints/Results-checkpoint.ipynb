{
 "cells": [
  {
   "cell_type": "code",
   "execution_count": 1,
   "id": "7c841cf3-3059-4e91-9679-8f621af80e1c",
   "metadata": {},
   "outputs": [],
   "source": [
    "import os\n",
    "\n",
    "model_names = sorted(os.listdir('./Tables'))\n",
    "model_names = [name.split('.xlsx')[0] for name in model_names]"
   ]
  },
  {
   "cell_type": "code",
   "execution_count": 2,
   "id": "46301508-b3ed-4e33-935e-ff916cfa0727",
   "metadata": {},
   "outputs": [
    {
     "data": {
      "text/plain": [
       "['Mask2Former-Fp32',\n",
       " 'O2SFormer-Fp32',\n",
       " 'Resa-Fp16',\n",
       " 'Resa-Fp32',\n",
       " 'TwinLiteNet-Fp16-trt',\n",
       " 'TwinLiteNet-Fp16',\n",
       " 'TwinLiteNet-Fp32-trt',\n",
       " 'TwinLiteNet-Fp32',\n",
       " 'UFLDv2-Fp16-trt',\n",
       " 'UFLDv2-Fp32-trt',\n",
       " 'UFLDv2-Fp32',\n",
       " 'UperNet-Fp16',\n",
       " 'UperNet-Fp32',\n",
       " 'YoloV5s-Fp16-trt',\n",
       " 'YoloV5s-Fp16',\n",
       " 'YoloV5s-Fp32',\n",
       " 'YoloV7-Fp16',\n",
       " 'YoloV7-Fp32',\n",
       " 'YoloV8s-Fp16-trt',\n",
       " 'YoloV8s-Fp16',\n",
       " 'YoloV8s-Fp32-trt',\n",
       " 'YoloV8s-Fp32',\n",
       " 'Yolop-Fp16-trt',\n",
       " 'Yolop-Fp16',\n",
       " 'Yolop-Fp32-trt',\n",
       " 'Yolop-Fp32',\n",
       " 'YolopV2-Fp16-trt',\n",
       " 'YolopV2-Fp16',\n",
       " 'YolopV2-Fp32-trt',\n",
       " 'YolopV2-Fp32']"
      ]
     },
     "execution_count": 2,
     "metadata": {},
     "output_type": "execute_result"
    }
   ],
   "source": [
    "model_names"
   ]
  },
  {
   "cell_type": "code",
   "execution_count": 3,
   "id": "fc3c6d17-30b8-4eb2-9aab-9151aef0812e",
   "metadata": {},
   "outputs": [],
   "source": [
    "model_sizes={\n",
    "    'Mask2Former-Fp32': 190,\n",
    "    'O2SFormer-Fp32': 125,\n",
    "    'Resa-Fp16': 45,\n",
    "    'Resa-Fp32': 90,\n",
    "    'TwinLiteNet-Fp16-trt': 4,\n",
    "    'TwinLiteNet-Fp16': 1,\n",
    "    'TwinLiteNet-Fp32-trt': 7,\n",
    "    'TwinLiteNet-Fp32': 2,\n",
    "    'UFLDv2-Fp16-trt': 260,\n",
    "    'UFLDv2-Fp32-trt': 530,\n",
    "    'UFLDv2-Fp32': 385,\n",
    "    'UperNet-Fp16': 240,\n",
    "    'UperNet-Fp32': 120,\n",
    "    'YoloV5s-Fp16-trt': 30,\n",
    "    'YoloV5s-Fp16': 15,\n",
    "    'YoloV5s-Fp32': 30,\n",
    "    'YoloV7-Fp16': 75,\n",
    "    'YoloV7-Fp32': 150,\n",
    "    'YoloV8s-Fp16-trt': 64,\n",
    "    'YoloV8s-Fp16': 23,\n",
    "    'YoloV8s-Fp32-trt': 66,\n",
    "    'YoloV8s-Fp32': 45,\n",
    "    'Yolop-Fp16-trt': 40,\n",
    "    'Yolop-Fp16': 16,\n",
    "    'Yolop-Fp32-trt': 56,\n",
    "    'Yolop-Fp32': 32,\n",
    "    'YolopV2-Fp16-trt': 113,\n",
    "    'YolopV2-Fp16': 78,\n",
    "    'YolopV2-Fp32-trt': 247,\n",
    "    'YolopV2-Fp32': 156 \n",
    "}"
   ]
  },
  {
   "cell_type": "code",
   "execution_count": 4,
   "id": "ba39342a-7cc5-4522-8b3b-12071e0a086f",
   "metadata": {},
   "outputs": [],
   "source": [
    "max_size = model_sizes[max(model_sizes, key=model_sizes.get)]"
   ]
  },
  {
   "cell_type": "code",
   "execution_count": 5,
   "id": "75536d26-7656-41fe-9bcb-ebbca76da546",
   "metadata": {},
   "outputs": [],
   "source": [
    "yolops = [\n",
    "'Yolop-Fp16-trt',\n",
    "'Yolop-Fp16',\n",
    "'Yolop-Fp32-trt',\n",
    "'Yolop-Fp32',\n",
    "'YolopV2-Fp16-trt',\n",
    "'YolopV2-Fp16',\n",
    "'YolopV2-Fp32-trt',\n",
    "'YolopV2-Fp32'\n",
    "]\n",
    "\n",
    "twin_lite_net = [\n",
    "'TwinLiteNet-Fp16-trt',\n",
    "'TwinLiteNet-Fp16',\n",
    "'TwinLiteNet-Fp32-trt',\n",
    "'TwinLiteNet-Fp32',\n",
    "]"
   ]
  },
  {
   "cell_type": "code",
   "execution_count": 7,
   "id": "dba71374-31f9-43df-b365-26aa0c524ec6",
   "metadata": {},
   "outputs": [],
   "source": [
    "import pandas as pd\n",
    "models = {}\n",
    "for model in model_names:\n",
    "    models[model] = {}\n",
    "    # models[model]['model'] = model\n",
    "    table_o = pd.read_excel('./Tables/'+model+'.xlsx', sheet_name='Results', header = [0,1])\n",
    "    mode_obj = 1 if 'Object detection' in table_o else 0\n",
    "    mode_da = 1 if 'Drivable area' in table_o else 0\n",
    "    mode_l = 1 if 'Lane marking' in table_o else 0\n",
    "    if mode_obj:\n",
    "        table_obj = table_o[['Unnamed: 0_level_0','Object detection']].dropna()\n",
    "        models[model]['Object detection'] = {}\n",
    "        models[model]['Object detection']['model'] = model\n",
    "        models[model]['Object detection']['fps'] = table_obj[('Object detection', 'FPS')].iloc[0]\n",
    "        models[model]['Object detection']['AP@50'] = table_obj[('Object detection', 'AP@50')].iloc[0]\n",
    "        models[model]['Object detection']['AP@75'] = table_obj[('Object detection', 'AP@75')].iloc[0]\n",
    "        models[model]['Object detection']['model_size'] = model_sizes[model]\n",
    "    if mode_da:\n",
    "        table_da = table_o[['Unnamed: 0_level_0','Drivable area']].dropna()\n",
    "        table_da\n",
    "        models[model]['Drivable area'] = {}\n",
    "        models[model]['Drivable area']['model'] = model\n",
    "        models[model]['Drivable area']['fps'] = table_da[('Drivable area', 'FPS')].iloc[0]\n",
    "        models[model]['Drivable area']['iou'] = table_da[('Drivable area', 'IoU')].iloc[0]\n",
    "        models[model]['Drivable area']['model_size'] = model_sizes[model]\n",
    "    if mode_l:\n",
    "        table_l = table_o[['Unnamed: 0_level_0','Lane marking']].dropna()\n",
    "        models[model]['Lane marking'] = {}\n",
    "        models[model]['Lane marking']['model'] = model\n",
    "        models[model]['Lane marking']['fps'] = table_l[('Lane marking', 'FPS')].iloc[0]\n",
    "        models[model]['Lane marking']['iou'] = table_l[('Lane marking', 'IoU')].iloc[0]\n",
    "        models[model]['Lane marking']['model_size'] = model_sizes[model]\n",
    "        \n",
    "            "
   ]
  },
  {
   "cell_type": "code",
   "execution_count": 8,
   "id": "cdfed768-b667-40c9-b646-7b64907a7879",
   "metadata": {},
   "outputs": [],
   "source": [
    "drivable_results_yolop = []\n",
    "drivable_results_twin = []\n",
    "drivable_results_single = []\n",
    "lane_results_yolop = []\n",
    "lane_results_twin = []\n",
    "lane_results_single = []\n",
    "obj_results_yolop = []\n",
    "obj_results_single = []\n",
    "for model in models:\n",
    "    drivable_results = None\n",
    "    lane_results = None\n",
    "    obj_results = None\n",
    "    if 'Drivable area' in models[model]:\n",
    "        drivable_results = models[model]['Drivable area']\n",
    "    if 'Lane marking' in models[model]:\n",
    "        lane_results = models[model]['Lane marking']\n",
    "    if 'Object detection' in models[model]:\n",
    "        obj_results = models[model]['Object detection']\n",
    "    if model in yolops:\n",
    "        drivable_results_yolop.append(drivable_results)\n",
    "        lane_results_yolop.append(lane_results)\n",
    "        obj_results_yolop.append(obj_results)\n",
    "    elif model in twin_lite_net:\n",
    "        drivable_results_twin.append(drivable_results)\n",
    "        lane_results_twin.append(lane_results)\n",
    "    else:\n",
    "        if not(drivable_results is None):\n",
    "            drivable_results_single.append(drivable_results)\n",
    "        if not(lane_results is None):\n",
    "            lane_results_single.append(lane_results)\n",
    "        if not(obj_results is None):\n",
    "            obj_results_single.append(obj_results)\n",
    "            "
   ]
  },
  {
   "cell_type": "code",
   "execution_count": 209,
   "id": "10bb69e8-7337-400b-9e4e-dcce23e96a19",
   "metadata": {},
   "outputs": [
    {
     "data": {
      "text/plain": [
       "[{'model': 'Yolop-Fp16-trt',\n",
       "  'fps': 22.5175988680985,\n",
       "  'iou': 0.770277683305449,\n",
       "  'model_size': 40},\n",
       " {'model': 'Yolop-Fp16',\n",
       "  'fps': 104.663527626807,\n",
       "  'iou': 0.770298692092912,\n",
       "  'model_size': 16},\n",
       " {'model': 'Yolop-Fp32-trt',\n",
       "  'fps': 22.1837818391656,\n",
       "  'iou': 0.770245806023603,\n",
       "  'model_size': 56},\n",
       " {'model': 'Yolop-Fp32',\n",
       "  'fps': 94.3816413326164,\n",
       "  'iou': 0.770250761029224,\n",
       "  'model_size': 32},\n",
       " {'model': 'YolopV2-Fp16-trt',\n",
       "  'fps': 92.2245270929932,\n",
       "  'iou': 0.826076798337659,\n",
       "  'model_size': 113},\n",
       " {'model': 'YolopV2-Fp16',\n",
       "  'fps': 61.862117104932,\n",
       "  'iou': 0.826067284644549,\n",
       "  'model_size': 78},\n",
       " {'model': 'YolopV2-Fp32-trt',\n",
       "  'fps': 54.7221025098335,\n",
       "  'iou': 0.826074025443337,\n",
       "  'model_size': 247},\n",
       " {'model': 'YolopV2-Fp32',\n",
       "  'fps': 45.7946726173311,\n",
       "  'iou': 0.826078904361767,\n",
       "  'model_size': 156}]"
      ]
     },
     "execution_count": 209,
     "metadata": {},
     "output_type": "execute_result"
    }
   ],
   "source": [
    "drivable_results_yolop"
   ]
  },
  {
   "cell_type": "code",
   "execution_count": 178,
   "id": "fca5f6fc-1320-44bb-945d-f00196112f95",
   "metadata": {},
   "outputs": [
    {
     "data": {
      "text/plain": [
       "[(0.5, 0.0, 1.0),\n",
       " (0.24901960784313726, 0.38410574917192586, 0.9806347704689778),\n",
       " (0.0019607843137254832, 0.7092813076058535, 0.9232891061054892),\n",
       " (0.2529411764705882, 0.9256376597815562, 0.8301840308155507),\n",
       " (0.503921568627451, 0.999981027348727, 0.7049255469061473),\n",
       " (0.7549019607843137, 0.9209055179449537, 0.5523649729605058),\n",
       " (1.0, 0.7005430375932911, 0.37841105004231035),\n",
       " (1.0, 0.37270199199091436, 0.18980109344182597),\n",
       " (1.0, 1.2246467991473532e-16, 6.123233995736766e-17)]"
      ]
     },
     "execution_count": 178,
     "metadata": {},
     "output_type": "execute_result"
    }
   ],
   "source": [
    "# import matplotlib\n",
    "# cmap = matplotlib.colormaps.get_cmap('rainbow')\n",
    "# cmap()\n",
    "n_colors = 9\n",
    "cmap = matplotlib.colormaps.get_cmap('rainbow')\n",
    "color_idx = [cmap(x/(n_colors-1))[:3] for x in range(0,n_colors)]\n",
    "color_idx"
   ]
  },
  {
   "cell_type": "code",
   "execution_count": 41,
   "id": "aceddc44-7cad-401c-a0d3-0fefccd5f9b4",
   "metadata": {},
   "outputs": [],
   "source": [
    "import copy\n",
    "import matplotlib.pyplot as plt\n",
    "from adjustText import adjust_text\n",
    "\n",
    "def generate_graph(list_dict, max_size, save_name, ap = 'AP@50'):\n",
    "    max = 5000\n",
    "    factor = 5000/max_size\n",
    "    l_dict = copy.deepcopy(list_dict)\n",
    "    if 'iou' in l_dict[0]:\n",
    "        mode_iou = 1\n",
    "        axis_label = 'IoU'\n",
    "    else:\n",
    "        mode_iou = 0\n",
    "        axis_label = ap\n",
    "    n_colors = len(l_dict)\n",
    "    cmap = matplotlib.colormaps.get_cmap('rainbow')\n",
    "    color_list = [cmap(x/(n_colors-1))[:3] for x in range(0,n_colors)]\n",
    "    for idx, dict1 in enumerate(l_dict):\n",
    "        dict1['color'] = color_list[idx]\n",
    "        dict1['model_size'] = int(dict1['model_size'] * factor)\n",
    "        if mode_iou:\n",
    "            dict1['iou'] = dict1['iou'] * 100\n",
    "        else:\n",
    "            dict1['AP@50'] = dict1['AP@50'] * 100\n",
    "            dict1['AP@75'] = dict1['AP@75'] * 100\n",
    "    df = pd.DataFrame(l_dict)\n",
    "    fig, ax = plt.subplots(figsize=(12, 8))\n",
    "    scatter = ax.scatter(data=df,\n",
    "                         x=\"fps\",\n",
    "                         y=\"iou\" if mode_iou else ap,\n",
    "                         c=\"color\",\n",
    "                         s=\"model_size\",\n",
    "                         marker = \"o\"\n",
    "                     )\n",
    "    ax.set_xlabel(\"Inference speed (FPS)\", fontsize=14)\n",
    "    ax.set_ylabel(axis_label+ \" (%)\", fontsize=14)\n",
    "    ax.tick_params(axis=\"both\", labelsize=12)\n",
    "    ax.grid(True)\n",
    "    x = df['fps'].tolist()\n",
    "    y = df['iou'].tolist()\n",
    "    text = df['model'].tolist()\n",
    "    texts = [plt.text(x[i], y[i], text[i], size=10) for i in range(len(x))]\n",
    "    adjust_text(texts, \n",
    "                # arrowprops=dict(arrowstyle='-', color='red')\n",
    "               )\n",
    "    for index, row in df.iterrows():\n",
    "        \n",
    "        # ax.annotate(text=row[\"model\"], # note: in some versions of Matplotlib, this may need to be \"text\" rather than \"s\"\n",
    "        #             xy=(row[\"fps\"]+0.001, row[\"iou\"]+teste),\n",
    "        #             size=12,\n",
    "        #             )\n",
    "        ax.scatter(data=df,\n",
    "                   x=df[\"fps\"][index],\n",
    "                   y=df[\"iou\"][index],\n",
    "                   c=[[0,0,0]],\n",
    "                   s=0.1\n",
    "                   )\n",
    "    plt.savefig(save_name)\n",
    "    "
   ]
  },
  {
   "cell_type": "code",
   "execution_count": 42,
   "id": "28042d2f-2aec-4ad5-bef3-dd76d9510c6b",
   "metadata": {
    "scrolled": true
   },
   "outputs": [
    {
     "data": {
      "image/png": "[encoded data removed]",
      "text/plain": [
       "<Figure size 1200x800 with 1 Axes>"
      ]
     },
     "metadata": {},
     "output_type": "display_data"
    }
   ],
   "source": [
    "generate_graph(drivable_results_yolop, max_size, 'Drivable_Yolops.pdf')"
   ]
  }
 ],
 "metadata": {
  "kernelspec": {
   "display_name": "Python 3 (ipykernel)",
   "language": "python",
   "name": "python3"
  },
  "language_info": {
   "codemirror_mode": {
    "name": "ipython",
    "version": 3
   },
   "file_extension": ".py",
   "mimetype": "text/x-python",
   "name": "python",
   "nbconvert_exporter": "python",
   "pygments_lexer": "ipython3",
   "version": "3.8.10"
  }
 },
 "nbformat": 4,
 "nbformat_minor": 5
}
