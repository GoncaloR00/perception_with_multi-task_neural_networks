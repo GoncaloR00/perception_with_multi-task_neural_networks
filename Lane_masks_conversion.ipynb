{
 "cells": [
  {
   "cell_type": "code",
   "execution_count": 10,
   "id": "5214a1d2-476c-43f2-bfbe-308de1c8d379",
   "metadata": {},
   "outputs": [],
   "source": [
    "from pathlib import Path\n",
    "original_path = Path('./Inference/inference_eval/src/bdd100k/labels/lane/masks/val')\n",
    "destination_path = Path('./Inference/inference_eval/src/bdd100k/labels/lane/transformed_masks/val')"
   ]
  },
  {
   "cell_type": "code",
   "execution_count": 14,
   "id": "79ee5664-12a6-4068-8534-9077e3e9fb99",
   "metadata": {},
   "outputs": [],
   "source": [
    "import os\n",
    "list = sorted(os.listdir(original_path))"
   ]
  },
  {
   "cell_type": "code",
   "execution_count": 28,
   "id": "4ff1be18-f8f7-424b-81ca-6484e1c02845",
   "metadata": {},
   "outputs": [],
   "source": [
    "import cv2\n",
    "import numpy as np\n",
    "for image in list:\n",
    "    mask = cv2.imread(str(original_path / image))\n",
    "    new_mask = np.zeros_like(mask).astype(np.uint8)\n",
    "    new_mask[mask!=255] = 255\n",
    "    new_mask = cv2.cvtColor(new_mask, cv2.COLOR_BGR2GRAY)\n",
    "    kernel = np.ones((5, 5), np.uint8)\n",
    "    new_mask = cv2.dilate(new_mask, kernel, iterations=2)\n",
    "    new_mask = cv2.erode(new_mask, kernel, iterations=1)\n",
    "    cv2.imwrite(str(destination_path / image), new_mask)"
   ]
  },
  {
   "cell_type": "code",
   "execution_count": 23,
   "id": "c1759286-4808-4dac-8e30-63dea7dbacc2",
   "metadata": {},
   "outputs": [
    {
     "data": {
      "text/plain": [
       "'Inference/inference_eval/src/bdd100k/labels/lane/transformed_masks/val/b1c66a42-6f7d68ca.png'"
      ]
     },
     "execution_count": 23,
     "metadata": {},
     "output_type": "execute_result"
    }
   ],
   "source": []
  },
  {
   "cell_type": "code",
   "execution_count": null,
   "id": "3767f359-35b7-4b54-b755-b9317144a89d",
   "metadata": {},
   "outputs": [],
   "source": [
    "# import cv2\n",
    "\n",
    "# img_o = cv2.imread(\"./original_data/b2de6f59-9f74dea1.jpg\")\n",
    "# mask = cv2.imread(\"./original_data/mask/b2de6f59-9f74dea1.png\")\n",
    "\n",
    "# import cv2\n",
    "# import numpy as np\n",
    "\n",
    "# new_mask = np.zeros_like(mask).astype(np.uint8)\n",
    "# new_mask[mask!=255] = 255\n",
    "# new_mask = cv2.cvtColor(new_mask, cv2.COLOR_BGR2GRAY)\n",
    "\n",
    "\n",
    "# kernel = np.ones((5, 5), np.uint8)\n",
    "# new_mask = cv2.dilate(new_mask, kernel, iterations=2)\n",
    "# new_mask = cv2.erode(new_mask, kernel, iterations=1)\n",
    "\n",
    "# img_o = cv2.cvtColor(img_o, cv2.COLOR_BGR2HSV)\n",
    "# img_o[:,:,0][new_mask==255] = 84\n",
    "# img_o[:,:,1][new_mask==255] = 120\n",
    "# img_o[:,:,2][new_mask==255] = 255\n",
    "# img_o = cv2.cvtColor(img_o, cv2.COLOR_HSV2BGR)"
   ]
  },
  {
   "cell_type": "code",
   "execution_count": 20,
   "id": "a5e96391-638e-4b64-9715-cae5af65edaf",
   "metadata": {},
   "outputs": [],
   "source": [
    "cv2.imshow('teste', new_mask)\n",
    "cv2.waitKey(0)\n",
    "cv2.destroyAllWindows()"
   ]
  }
 ],
 "metadata": {
  "kernelspec": {
   "display_name": "Python 3 (ipykernel)",
   "language": "python",
   "name": "python3"
  },
  "language_info": {
   "codemirror_mode": {
    "name": "ipython",
    "version": 3
   },
   "file_extension": ".py",
   "mimetype": "text/x-python",
   "name": "python",
   "nbconvert_exporter": "python",
   "pygments_lexer": "ipython3",
   "version": "3.8.10"
  }
 },
 "nbformat": 4,
 "nbformat_minor": 5
}
